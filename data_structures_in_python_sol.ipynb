{
  "cells": [
    {
      "cell_type": "markdown",
      "metadata": {
        "id": "view-in-github",
        "colab_type": "text"
      },
      "source": [
        "<a href=\"https://colab.research.google.com/github/Manedk/AIArchitect/blob/main/data_structures_in_python_sol.ipynb\" target=\"_parent\"><img src=\"https://colab.research.google.com/assets/colab-badge.svg\" alt=\"Open In Colab\"/></a>"
      ]
    },
    {
      "cell_type": "markdown",
      "metadata": {
        "id": "7HRkiTYEq5VQ"
      },
      "source": [
        "# Data Structures in Python\n",
        "This notebook gives an overview of data types and structures in Python. After going through the material you will be able work with the most important data types and structures. In addition, you will understand the concepts of methods and functions, as well as objects and classes."
      ]
    },
    {
      "cell_type": "markdown",
      "metadata": {
        "id": "Msz4u6kXq5VS"
      },
      "source": [
        "# Basic Data Types in Python\n",
        "\n",
        "![python_types](img/python_types.png)\n",
        "https://de.wikipedia.org/wiki/Datei:Python_3._The_standard_type_hierarchy.png\n",
        "\n",
        "## Boolean Values\n",
        "* \"Two constant objects `False` and `True`\"\n",
        "* \"Used to represent trueth values\"\n",
        "* \"In numeric contexts (...) they behave like the integers 0 and 1, respectively.\n",
        "* Subtype of Integers\n",
        "\n",
        "https://docs.python.org/3/library/stdtypes.html#boolean-values\n",
        "\n",
        "\n",
        "### Boolean Operations\n",
        "\n",
        "| Operation | Results | Note |\n",
        "|:----------|:--------|:-----|\n",
        "| `x or y`  | if x is false, then y, else x | short-circut operator (only evaluates the second arugment if the first one is false) |\n",
        "| `x and y` | if x is false, then x, else y | short-circut operator (only evaluates the second argument if the first one is true) |\n",
        "| `not x`   | if x is false, then `True`, else `False` | `not` has a lower priority then non-Boolean operators |\n",
        "\n",
        "https://docs.python.org/3/library/stdtypes.html#boolean-operations-and-or-not\n",
        "\n",
        "## Comparisons\n",
        "* All have the same priority (but higher than Boolean operations)\n",
        "\n",
        "| Operation | Meaning                 |\n",
        "|:----------|:------------------------|\n",
        "| `<`       | strictly less than      |\n",
        "| `<=`      | less than or equal      |\n",
        "| `>`       | strictly greater than   |\n",
        "| `>=`      | greater than or equal   |\n",
        "| `==`      | equal                   |\n",
        "| `!=`      | not equal               |\n",
        "| `is`      | object identity         |\n",
        "| `is not`  | negated object identity |\n",
        "\n",
        "https://docs.python.org/3/library/stdtypes.html#comparisons"
      ]
    },
    {
      "cell_type": "code",
      "execution_count": null,
      "metadata": {
        "id": "rE9GTLyJq5VS",
        "outputId": "406d023c-f15d-4882-e588-a0b616bba58f"
      },
      "outputs": [
        {
          "data": {
            "text/plain": [
              "False"
            ]
          },
          "execution_count": 1,
          "metadata": {},
          "output_type": "execute_result"
        }
      ],
      "source": [
        "5 <= 3"
      ]
    },
    {
      "cell_type": "code",
      "execution_count": null,
      "metadata": {
        "id": "Rcb8mKFZq5VU",
        "outputId": "d8e5dcf7-9731-4bce-8662-48130d9a74b5"
      },
      "outputs": [
        {
          "data": {
            "text/plain": [
              "True"
            ]
          },
          "execution_count": 2,
          "metadata": {},
          "output_type": "execute_result"
        }
      ],
      "source": [
        "5 >= 3"
      ]
    },
    {
      "cell_type": "code",
      "execution_count": null,
      "metadata": {
        "id": "OxXq2khCq5VU",
        "outputId": "fc32972c-2979-4ea3-e699-0b0a3a57465b"
      },
      "outputs": [
        {
          "data": {
            "text/plain": [
              "False"
            ]
          },
          "execution_count": 3,
          "metadata": {},
          "output_type": "execute_result"
        }
      ],
      "source": [
        "# check string values\n",
        "'a' == 'b'"
      ]
    },
    {
      "cell_type": "code",
      "execution_count": null,
      "metadata": {
        "id": "-Lx1B6yYq5VU",
        "outputId": "837172c5-b481-4314-9d2e-0ea95afa056a"
      },
      "outputs": [
        {
          "data": {
            "text/plain": [
              "True"
            ]
          },
          "execution_count": 4,
          "metadata": {},
          "output_type": "execute_result"
        }
      ],
      "source": [
        "'a' != 'b'"
      ]
    },
    {
      "cell_type": "code",
      "execution_count": null,
      "metadata": {
        "id": "1Qwp4BDtq5VV"
      },
      "outputs": [],
      "source": [
        "# define some variables\n",
        "a = 4\n",
        "b = 2\n",
        "c = a"
      ]
    },
    {
      "cell_type": "code",
      "execution_count": null,
      "metadata": {
        "id": "UaugiRDzq5VV",
        "outputId": "3154deab-be2c-4e8c-8901-ae99ba7f4c43"
      },
      "outputs": [
        {
          "data": {
            "text/plain": [
              "False"
            ]
          },
          "execution_count": 6,
          "metadata": {},
          "output_type": "execute_result"
        }
      ],
      "source": [
        "# check object identity of a and b\n",
        "a is b"
      ]
    },
    {
      "cell_type": "code",
      "execution_count": null,
      "metadata": {
        "id": "fe0Fidv7q5VV",
        "outputId": "f0daa533-9b4a-46d5-9f40-307d5055129e"
      },
      "outputs": [
        {
          "data": {
            "text/plain": [
              "True"
            ]
          },
          "execution_count": 7,
          "metadata": {},
          "output_type": "execute_result"
        }
      ],
      "source": [
        "# check object identity of a and c (c=a)\n",
        "a is c"
      ]
    },
    {
      "cell_type": "code",
      "execution_count": null,
      "metadata": {
        "id": "QXVcrNWhq5VV",
        "outputId": "1ad02229-745e-4eed-99cd-e4db8b0fba11"
      },
      "outputs": [
        {
          "data": {
            "text/plain": [
              "False"
            ]
          },
          "execution_count": 8,
          "metadata": {},
          "output_type": "execute_result"
        }
      ],
      "source": [
        "# compare the values of a (4) and b (2)\n",
        "a == b"
      ]
    },
    {
      "cell_type": "markdown",
      "metadata": {
        "id": "cba_vDF7q5VW"
      },
      "source": [
        "Object identities can return unexpected results for small ints or short strings!\n",
        "\n",
        "\"However, for the sake of optimization (mostly) there are some exceptions for small integers (between -5 and 256) and small strings (interned strings, with a special length (usually less than 20 character)) which are singletons and have same id (actually one object with multiple pointer).\" https://stackoverflow.com/a/38189759/6270819"
      ]
    },
    {
      "cell_type": "code",
      "execution_count": null,
      "metadata": {
        "id": "knvgB_iIq5VW"
      },
      "outputs": [],
      "source": [
        "# define to variables with the same value\n",
        "a = 3\n",
        "b = 3"
      ]
    },
    {
      "cell_type": "code",
      "execution_count": null,
      "metadata": {
        "id": "6_Gf7Rgeq5VW",
        "outputId": "3f8c9501-c96a-426d-b80b-043cbe6816a2"
      },
      "outputs": [
        {
          "data": {
            "text/plain": [
              "True"
            ]
          },
          "execution_count": 10,
          "metadata": {},
          "output_type": "execute_result"
        }
      ],
      "source": [
        "# compare the value (3=3)\n",
        "a == b"
      ]
    },
    {
      "cell_type": "code",
      "execution_count": null,
      "metadata": {
        "id": "nE-39D3bq5VW",
        "outputId": "7b698601-b140-4853-f053-7e9cf468a53f"
      },
      "outputs": [
        {
          "data": {
            "text/plain": [
              "True"
            ]
          },
          "execution_count": 11,
          "metadata": {},
          "output_type": "execute_result"
        }
      ],
      "source": [
        "# compare the object identity. this behavior is not expected because b != a\n",
        "a is b"
      ]
    },
    {
      "cell_type": "code",
      "execution_count": null,
      "metadata": {
        "id": "4rc4JZehq5VW",
        "outputId": "ffafd760-e2d2-4c2e-f09a-338a2a18780e"
      },
      "outputs": [
        {
          "data": {
            "text/plain": [
              "140707397673424"
            ]
          },
          "execution_count": 12,
          "metadata": {},
          "output_type": "execute_result"
        }
      ],
      "source": [
        "# a and b have the same ID even though they are not defined as being the same object\n",
        "id(a)"
      ]
    },
    {
      "cell_type": "code",
      "execution_count": null,
      "metadata": {
        "id": "C5KbSQyJq5VX",
        "outputId": "1f61ca6f-9f40-48d0-f252-ebf5a7fff103"
      },
      "outputs": [
        {
          "data": {
            "text/plain": [
              "140707397673424"
            ]
          },
          "execution_count": 13,
          "metadata": {},
          "output_type": "execute_result"
        }
      ],
      "source": [
        "id(b)"
      ]
    },
    {
      "cell_type": "code",
      "execution_count": null,
      "metadata": {
        "id": "9-LiTF_Zq5VX"
      },
      "outputs": [],
      "source": [
        "# increase a by 1 and define a new variable c\n",
        "a = a + 1\n",
        "c = 4"
      ]
    },
    {
      "cell_type": "code",
      "execution_count": null,
      "metadata": {
        "id": "ZsBiqocCq5VX",
        "outputId": "a68a127b-b66f-4509-956b-aba400773d14"
      },
      "outputs": [
        {
          "data": {
            "text/plain": [
              "140707397673456"
            ]
          },
          "execution_count": 15,
          "metadata": {},
          "output_type": "execute_result"
        }
      ],
      "source": [
        "# now a and c share the same ID and b stays the same as before\n",
        "id(a)"
      ]
    },
    {
      "cell_type": "code",
      "execution_count": null,
      "metadata": {
        "id": "EExcnJfcq5VX",
        "outputId": "8336d429-7d50-4590-ce0b-2b4a70edee14"
      },
      "outputs": [
        {
          "data": {
            "text/plain": [
              "140707397673424"
            ]
          },
          "execution_count": 16,
          "metadata": {},
          "output_type": "execute_result"
        }
      ],
      "source": [
        "id(b)"
      ]
    },
    {
      "cell_type": "code",
      "execution_count": null,
      "metadata": {
        "id": "ViTxd9MGq5VX",
        "outputId": "3d14ee14-018a-45bc-8d95-18c702c4bed7"
      },
      "outputs": [
        {
          "data": {
            "text/plain": [
              "140707397673456"
            ]
          },
          "execution_count": 17,
          "metadata": {},
          "output_type": "execute_result"
        }
      ],
      "source": [
        "id(c)"
      ]
    },
    {
      "cell_type": "code",
      "execution_count": null,
      "metadata": {
        "id": "4Rg3VRYEq5VY",
        "outputId": "f39a2dcd-805f-4a35-d2bb-b7f6990faf0a"
      },
      "outputs": [
        {
          "data": {
            "text/plain": [
              "False"
            ]
          },
          "execution_count": 18,
          "metadata": {},
          "output_type": "execute_result"
        }
      ],
      "source": [
        "# a is now 4 and b is still 3\n",
        "a is b"
      ]
    },
    {
      "cell_type": "code",
      "execution_count": null,
      "metadata": {
        "id": "VKOt-PD_q5VY",
        "outputId": "23033958-694d-4d12-a724-be730349ac56"
      },
      "outputs": [
        {
          "data": {
            "text/plain": [
              "True"
            ]
          },
          "execution_count": 19,
          "metadata": {},
          "output_type": "execute_result"
        }
      ],
      "source": [
        "# a and c share the same ID so the object identity comparison returns True\n",
        "a is c"
      ]
    },
    {
      "cell_type": "markdown",
      "metadata": {
        "id": "KEaOd_KSq5VY"
      },
      "source": [
        "### Exercises\n",
        "\n",
        "1- https://codingbat.com/python/Logic-1\n",
        "\n",
        "2- https://codingbat.com/python/Logic-2"
      ]
    },
    {
      "cell_type": "markdown",
      "metadata": {
        "id": "AnprJpZeq5VY"
      },
      "source": [
        "## Numbers\n",
        "### Integers\n",
        "* Whole numbers\n",
        "* Positive, negative, or zero\n",
        "* Unlimited precision in Python"
      ]
    },
    {
      "cell_type": "code",
      "execution_count": null,
      "metadata": {
        "id": "-4SeCisEq5VY",
        "outputId": "7b9d15ae-d974-4324-84c3-a7cc6264fcac"
      },
      "outputs": [
        {
          "data": {
            "text/plain": [
              "3"
            ]
          },
          "execution_count": 20,
          "metadata": {},
          "output_type": "execute_result"
        }
      ],
      "source": [
        "i = 3\n",
        "i"
      ]
    },
    {
      "cell_type": "code",
      "execution_count": null,
      "metadata": {
        "id": "v4un3-wsq5VY",
        "outputId": "e3063670-b0b7-41a5-f5d4-e92f94548236"
      },
      "outputs": [
        {
          "data": {
            "text/plain": [
              "int"
            ]
          },
          "execution_count": 21,
          "metadata": {},
          "output_type": "execute_result"
        }
      ],
      "source": [
        "type(i)"
      ]
    },
    {
      "cell_type": "markdown",
      "metadata": {
        "id": "uoKhE6t-q5VZ"
      },
      "source": [
        "### Float\n",
        "* Floating point numbers\n",
        "* Usually implemented as `double` in C\n",
        "* `sys.float_info` shows information about the precision of floats in your system"
      ]
    },
    {
      "cell_type": "code",
      "execution_count": null,
      "metadata": {
        "id": "EHmcxGzfq5VZ",
        "outputId": "ca225098-f872-4db5-d7ec-ecffca3889ad"
      },
      "outputs": [
        {
          "data": {
            "text/plain": [
              "3.2"
            ]
          },
          "execution_count": 22,
          "metadata": {},
          "output_type": "execute_result"
        }
      ],
      "source": [
        "f = 3.2\n",
        "f"
      ]
    },
    {
      "cell_type": "code",
      "execution_count": null,
      "metadata": {
        "id": "fx6ofcHPq5VZ",
        "outputId": "8470c7ac-a3c3-4cfd-fd88-098052aaf11b"
      },
      "outputs": [
        {
          "data": {
            "text/plain": [
              "float"
            ]
          },
          "execution_count": 23,
          "metadata": {},
          "output_type": "execute_result"
        }
      ],
      "source": [
        "type(f)"
      ]
    },
    {
      "cell_type": "code",
      "execution_count": null,
      "metadata": {
        "id": "0UoHaTEjq5VZ",
        "outputId": "dd5b5fb6-e464-43f5-f3c2-22aa78e7a651"
      },
      "outputs": [
        {
          "data": {
            "text/plain": [
              "sys.float_info(max=1.7976931348623157e+308, max_exp=1024, max_10_exp=308, min=2.2250738585072014e-308, min_exp=-1021, min_10_exp=-307, dig=15, mant_dig=53, epsilon=2.220446049250313e-16, radix=2, rounds=1)"
            ]
          },
          "execution_count": 24,
          "metadata": {},
          "output_type": "execute_result"
        }
      ],
      "source": [
        "import sys\n",
        "sys.float_info"
      ]
    },
    {
      "cell_type": "code",
      "execution_count": null,
      "metadata": {
        "id": "acoEzRpbq5VZ"
      },
      "outputs": [],
      "source": []
    },
    {
      "cell_type": "markdown",
      "metadata": {
        "id": "tZGV5WEeq5VZ"
      },
      "source": [
        "**Operations for integers and floats**\n",
        "\n",
        "| Operation           | Result   |\n",
        "|:--------------------|:----------|\n",
        "|  `x + y`            | sum of x and y |\n",
        "|  `x - y`            | difference of x and y |\n",
        "|  `x * y`            | product of x and y |\n",
        "|  `x / y`            | quotient of x and y |\n",
        "|  `x // y`           | floored quotient of x and y (returns integer)|\n",
        "|  `x % y`            | remainder of `x / y` |\n",
        "|  `-x`               | x negated |\n",
        "|  `+x`               | x unchanged |\n",
        "|  `abs(x)`           | absolute value or magnitude of x |\n",
        "|  `int(x)`           | x converetd to integer |\n",
        "|  `float(x)`         | x converted to floating point |\n",
        "|  `complex(re, im)`  | a complex number with real part re and imaginary part im (default is zero) |\n",
        "|  `c.conjugate()`    | conjugate of the complex number c |\n",
        "|  `divmod(x, y)`     | the pair `(x // y, x % y)` |\n",
        "|  `pow(x, y)`        | x to the power of y |\n",
        "|  `x ** y`           | x to the power of y |\n",
        "| `math.trunc(x)`     | x truncated to [Integral](https://docs.python.org/3/library/numbers.html#numbers.Integral) |\n",
        "| `round(x[, n])`     | x rounded to $n$ digits, rounding half to even. $n$ defaults to 0. |\n",
        "| `math.floor(x)`     | the greatest [Integral](https://docs.python.org/3/library/numbers.html#numbers.Integral) <= x |\n",
        "| `math.ceil(x)`      | the least [Integral](https://docs.python.org/3/library/numbers.html#numbers.Integral) >= x |\n",
        "\n",
        "**Remarks**\n",
        "* \"Python defines `pow(0, 0)` and `0 ** 0` to be `1`, as is common for programming languages.\"\n",
        "* Additional numeric operations are defined in the [math](https://docs.python.org/3/library/math.html#module-math) and [cmath](https://docs.python.org/3/library/cmath.html#module-cmath) modules\n",
        "* Also see further comments and remarks at https://docs.python.org/3/library/stdtypes.html#numeric-types-int-float-complex\n",
        "\n",
        "https://es.wikipedia.org/wiki/Conjugado_(matem%C3%A1tica)\n",
        "\n",
        "\n",
        "### Complex Numbers\n",
        "* A \"number that be expressed in te form $a + bi$, where $a$ and $b$ are real numbers, and $i$ is a solution of the equation $x^2 = -1$\" (https://en.wikipedia.org/wiki/Complex_number)\n",
        "* Real ($a$) and imaginary ($b$) part\n",
        "* `j` suffic in Python (electrical engineering convention)"
      ]
    },
    {
      "cell_type": "code",
      "execution_count": null,
      "metadata": {
        "id": "lwsywJ9Cq5Va",
        "outputId": "6590a8a8-562d-48e4-844f-d1fbe8c34426"
      },
      "outputs": [
        {
          "data": {
            "text/plain": [
              "2"
            ]
          },
          "execution_count": 25,
          "metadata": {},
          "output_type": "execute_result"
        }
      ],
      "source": [
        "x=2\n",
        "+x"
      ]
    },
    {
      "cell_type": "code",
      "execution_count": null,
      "metadata": {
        "id": "TzboPUgVq5Va",
        "outputId": "7ce1815b-9310-4b0b-9e3b-200d99605a4e"
      },
      "outputs": [
        {
          "data": {
            "text/plain": [
              "2"
            ]
          },
          "execution_count": 26,
          "metadata": {},
          "output_type": "execute_result"
        }
      ],
      "source": [
        "import math\n",
        "x=2.56\n",
        "math.floor(x)"
      ]
    },
    {
      "cell_type": "code",
      "execution_count": null,
      "metadata": {
        "id": "cac-lkAXq5Va",
        "outputId": "721a27af-a42f-4926-c07f-58cea38d059c"
      },
      "outputs": [
        {
          "data": {
            "text/plain": [
              "3"
            ]
          },
          "execution_count": 27,
          "metadata": {},
          "output_type": "execute_result"
        }
      ],
      "source": [
        "math.ceil(x)"
      ]
    },
    {
      "cell_type": "code",
      "execution_count": null,
      "metadata": {
        "id": "0ZtxIcSKq5Va",
        "outputId": "f812850f-2c07-4bba-821b-29345b3ccebd"
      },
      "outputs": [
        {
          "data": {
            "text/plain": [
              "(2+1j)"
            ]
          },
          "execution_count": 28,
          "metadata": {},
          "output_type": "execute_result"
        }
      ],
      "source": [
        "c = 2+1j\n",
        "c"
      ]
    },
    {
      "cell_type": "code",
      "execution_count": null,
      "metadata": {
        "id": "0mhN7z8tq5Va",
        "outputId": "abf15ed0-9991-4455-e643-f0f59d54af5a"
      },
      "outputs": [
        {
          "data": {
            "text/plain": [
              "complex"
            ]
          },
          "execution_count": 29,
          "metadata": {},
          "output_type": "execute_result"
        }
      ],
      "source": [
        "type(c)"
      ]
    },
    {
      "cell_type": "code",
      "execution_count": null,
      "metadata": {
        "id": "UTOK5FW8q5Va",
        "outputId": "579019e3-a32e-4c3a-8325-a0f93d98c9f5"
      },
      "outputs": [
        {
          "data": {
            "text/plain": [
              "(2+3j)"
            ]
          },
          "execution_count": 30,
          "metadata": {},
          "output_type": "execute_result"
        }
      ],
      "source": [
        "complex(2,3)"
      ]
    },
    {
      "cell_type": "markdown",
      "metadata": {
        "id": "YgR3y_K6q5Vb"
      },
      "source": [
        "## Strings\n",
        "* Textual data\n",
        "* Immutable sequences\n",
        "* Unicode encoding in Python 3 (was ASCII in Python 2)\n",
        "* Denoted with\n",
        "  * Single quotes\n",
        "  * Double quotes\n",
        "  * Tripe quoted (double quotes preferred by PEP8): span multiple lines\n",
        "* Nested quoted possible (e.g. `\"a sentence with 'quoted text'.\"`\n",
        "  \n",
        "https://docs.python.org/3/library/stdtypes.html#text-sequence-type-str"
      ]
    },
    {
      "cell_type": "code",
      "execution_count": null,
      "metadata": {
        "id": "pfs0YXClq5Vc",
        "outputId": "8013e6f9-b2e6-4d9e-c7a6-8e080659bc9f"
      },
      "outputs": [
        {
          "data": {
            "text/plain": [
              "'text'"
            ]
          },
          "execution_count": 31,
          "metadata": {},
          "output_type": "execute_result"
        }
      ],
      "source": [
        "s = 'text'\n",
        "s"
      ]
    },
    {
      "cell_type": "code",
      "execution_count": null,
      "metadata": {
        "id": "Yafh9Pjoq5Vc",
        "outputId": "bd420012-41ba-4902-b35f-9e603cd88c99"
      },
      "outputs": [
        {
          "data": {
            "text/plain": [
              "'new text'"
            ]
          },
          "execution_count": 32,
          "metadata": {},
          "output_type": "execute_result"
        }
      ],
      "source": [
        "s = \"new text\"\n",
        "s"
      ]
    },
    {
      "cell_type": "code",
      "execution_count": null,
      "metadata": {
        "id": "71jVlMlpq5Vc",
        "outputId": "7bc8d5b9-c28f-4a50-9ba9-a1a21b32cc74"
      },
      "outputs": [
        {
          "data": {
            "text/plain": [
              "'new text with\\n       new line'"
            ]
          },
          "execution_count": 33,
          "metadata": {},
          "output_type": "execute_result"
        }
      ],
      "source": [
        "s = \"\"\"new text with\n",
        "       new line\"\"\"\n",
        "s\n"
      ]
    },
    {
      "cell_type": "code",
      "execution_count": null,
      "metadata": {
        "id": "aXPXLtUvq5Vc",
        "outputId": "876d5e40-d4a7-419b-dafd-a48d58fccc95"
      },
      "outputs": [
        {
          "name": "stdout",
          "output_type": "stream",
          "text": [
            "a sentence with 'quoted text'.\n"
          ]
        }
      ],
      "source": [
        "s = \"a sentence with 'quoted text'.\"\n",
        "print(s)"
      ]
    },
    {
      "cell_type": "markdown",
      "metadata": {
        "id": "4wSZsHzMq5Vc"
      },
      "source": [
        "### Common Sequence Operations\n",
        "* \"Supported by most sequence types, both mutable and immutable\"\n",
        "  * String\n",
        "  * List\n",
        "  * Tuple\n",
        "  * Range\n",
        "  * ...\n",
        "\n",
        "| Operation | Result |\n",
        "|:----------|:-------|\n",
        "| `x in s` | `True` if an item of s is equal to x, else `False` |\n",
        "| `x not in s` | `False` if an item of s is equal to x, else `True`\t|\n",
        "| `s + t` | the concatenation of s and t |\n",
        "| `s * n or n * s` | equivalent to adding s to itself n times |\n",
        "| `s[i]` | ith item of s, origin 0 |\n",
        "| `s[i:j]` | slice of s from i to j |\n",
        "| `s[i:j:k]` | slice of s from i to j with step k |\n",
        "| `len(s)` | length of s |\n",
        "| `min(s)` | smallest item of s |\n",
        "| `max(s)` | largest item of s |\n",
        "| `s.index(x[, i[, j]])` | index of the first occurrence of x in s (at or after index i and before index j) |\n",
        "| `s.count(x)` | total number of occurrences of x in s |\n",
        "\n",
        "Check https://docs.python.org/3/library/stdtypes.html#typesseq-common for more details and remarks to the common sequence operations."
      ]
    },
    {
      "cell_type": "code",
      "execution_count": null,
      "metadata": {
        "id": "MmGfkTYZq5Vd",
        "outputId": "644dbea3-3721-41c9-edbf-c9724b21ba46"
      },
      "outputs": [
        {
          "data": {
            "text/plain": [
              "[0, 1, 2, 3]"
            ]
          },
          "execution_count": 35,
          "metadata": {},
          "output_type": "execute_result"
        }
      ],
      "source": [
        "# create a list with some elements\n",
        "a = [0, 1, 2, 3]\n",
        "a"
      ]
    },
    {
      "cell_type": "code",
      "execution_count": null,
      "metadata": {
        "id": "K9Aqy9Thq5Vd",
        "outputId": "b0863b63-0fa9-4ce2-991c-b340687b2d2a"
      },
      "outputs": [
        {
          "data": {
            "text/plain": [
              "True"
            ]
          },
          "execution_count": 36,
          "metadata": {},
          "output_type": "execute_result"
        }
      ],
      "source": [
        "# check if 2 is in list a\n",
        "2 in a"
      ]
    },
    {
      "cell_type": "code",
      "execution_count": null,
      "metadata": {
        "id": "Y4EwS1h-q5Vd",
        "outputId": "a7832775-dcb4-4476-ba4d-a128e6d9c1d5"
      },
      "outputs": [
        {
          "data": {
            "text/plain": [
              "1"
            ]
          },
          "execution_count": 37,
          "metadata": {},
          "output_type": "execute_result"
        }
      ],
      "source": [
        "# get element at index 1 (0-based!)\n",
        "a[1]"
      ]
    },
    {
      "cell_type": "code",
      "execution_count": null,
      "metadata": {
        "id": "d8_ShyTGq5Vd",
        "outputId": "84295d94-2dd9-4e90-b379-468d89d18704"
      },
      "outputs": [
        {
          "data": {
            "text/plain": [
              "[1, 2]"
            ]
          },
          "execution_count": 38,
          "metadata": {},
          "output_type": "execute_result"
        }
      ],
      "source": [
        "# get element from index 1 to index 3 (exclusive)\n",
        "a[1:3]"
      ]
    },
    {
      "cell_type": "code",
      "execution_count": null,
      "metadata": {
        "id": "lXYFGC2Xq5Vd",
        "outputId": "f5ecf45f-c40d-4fba-e1ce-32b9e11401a2"
      },
      "outputs": [
        {
          "data": {
            "text/plain": [
              "[0, 2]"
            ]
          },
          "execution_count": 39,
          "metadata": {},
          "output_type": "execute_result"
        }
      ],
      "source": [
        "a[0:4:2]"
      ]
    },
    {
      "cell_type": "code",
      "execution_count": null,
      "metadata": {
        "id": "_7lJYF5Lq5Vd",
        "outputId": "4f8d8acd-1534-408b-aa06-0efe9da5559f"
      },
      "outputs": [
        {
          "data": {
            "text/plain": [
              "4"
            ]
          },
          "execution_count": 40,
          "metadata": {},
          "output_type": "execute_result"
        }
      ],
      "source": [
        "# get the number of elements of the list\n",
        "len(a)"
      ]
    },
    {
      "cell_type": "code",
      "execution_count": null,
      "metadata": {
        "id": "5RbBhxidq5Ve",
        "outputId": "be364b66-8a9a-4cec-ea41-febbf1b72896"
      },
      "outputs": [
        {
          "data": {
            "text/plain": [
              "3"
            ]
          },
          "execution_count": 41,
          "metadata": {},
          "output_type": "execute_result"
        }
      ],
      "source": [
        "# get the maximum element of the list\n",
        "max(a)"
      ]
    },
    {
      "cell_type": "markdown",
      "metadata": {
        "id": "2e_6Rflqq5Ve"
      },
      "source": [
        "### Mutable Sequence Operations\n",
        "* The following table shows operations that are defined for mutable sequence type\n",
        "  * *s*: mutable sequence type\n",
        "  * *x*: arbitrary object\n",
        "  \n",
        "\n",
        "| Operation | Result |\n",
        "|:----------|:-------|\n",
        "|`s[i] = x` | item *i* of *s* is replaced by *x* |\n",
        "|`s[i:j] = t` | slice of *s* from *i* to *j* is replaced by the contents of the iterable *t* |\n",
        "|`del s[i:j]` | same as `s[i:j] = []` |\n",
        "|`s[i:j:k] = t` | the elements of `s[i:j:k]` are replaced by those of *t* |\n",
        "|`del s[i:j:k]` | removes the elements of `s[i:j:k]` from the list |\n",
        "|`s.append(x)` | appends *x* to the end of the sequence (same as `s[len(s):len(s)] = [x]`) |\n",
        "|`s.clear()` | removes all items from *s* (same as `del s[:]`) |\n",
        "|`s.copy()` | creates a shallow copy of *s* (same as `s[:]`) |\n",
        "|`s.extend(t)` or `s += t` | extends *s* with the contents of *t* (for the most part the same as `s[len(s):len(s)] = t`) |\n",
        "|`s *= n` | updates *s* with its contents repeated *n* times |\n",
        "|`s.insert(i, x)` | inserts *x* into *s* at the index given by *i* (same as `s[i:i] = [x]`) |\n",
        "|`s.pop([i])` | retrieves the item at *i* and also removes it from *s* |\n",
        "|`s.remove(x)` | remove the first item from *s* where `s[i]` is equal to *x* |\n",
        "|`s.reverse()` | reverses the items of *s* in place |\n",
        "\n",
        "Check https://docs.python.org/3/library/stdtypes.html#mutable-sequence-types for more details and remarks."
      ]
    },
    {
      "cell_type": "code",
      "execution_count": null,
      "metadata": {
        "id": "UNLbJKEOq5Ve",
        "outputId": "43121d72-973d-4635-91e9-8a3fa150777f"
      },
      "outputs": [
        {
          "data": {
            "text/plain": [
              "[0, 1, 2, 3]"
            ]
          },
          "execution_count": 42,
          "metadata": {},
          "output_type": "execute_result"
        }
      ],
      "source": [
        "a"
      ]
    },
    {
      "cell_type": "code",
      "execution_count": null,
      "metadata": {
        "id": "8WLSmz5Fq5Ve",
        "outputId": "02d38f3c-cd1b-42f9-ede9-6a0ffbd569be"
      },
      "outputs": [
        {
          "data": {
            "text/plain": [
              "[0, 1, -1, 3]"
            ]
          },
          "execution_count": 43,
          "metadata": {},
          "output_type": "execute_result"
        }
      ],
      "source": [
        "# replace element at index 2 with the new value\n",
        "a[2] = -1\n",
        "a"
      ]
    },
    {
      "cell_type": "code",
      "execution_count": null,
      "metadata": {
        "id": "qSvp9KfBq5Ve",
        "outputId": "39570529-2ba5-4c32-ba21-58f8590e69a8"
      },
      "outputs": [
        {
          "data": {
            "text/plain": [
              "[0, 1, -1, 3, 4]"
            ]
          },
          "execution_count": 44,
          "metadata": {},
          "output_type": "execute_result"
        }
      ],
      "source": [
        "# add a new element to the list\n",
        "a.append(4)\n",
        "a"
      ]
    },
    {
      "cell_type": "code",
      "execution_count": null,
      "metadata": {
        "id": "7uODTSRcq5Vf",
        "outputId": "d0e1cce2-7ff0-473d-d3a1-04023e89a8dc"
      },
      "outputs": [
        {
          "data": {
            "text/plain": [
              "[0, 1, -1, 3, 4, 5, 6, 7]"
            ]
          },
          "execution_count": 45,
          "metadata": {},
          "output_type": "execute_result"
        }
      ],
      "source": [
        "# add multiple new elements\n",
        "a.extend([5, 6, 7])\n",
        "a"
      ]
    },
    {
      "cell_type": "code",
      "execution_count": null,
      "metadata": {
        "id": "PeSC8qPQq5Vf",
        "outputId": "e5abbfcf-ff44-42bf-dde0-54c115b7777f"
      },
      "outputs": [
        {
          "data": {
            "text/plain": [
              "[0, 1, 3, 4, 5, 6, 7]"
            ]
          },
          "execution_count": 46,
          "metadata": {},
          "output_type": "execute_result"
        }
      ],
      "source": [
        "# remove the first occurence of -1\n",
        "a.remove(-1)\n",
        "a"
      ]
    },
    {
      "cell_type": "code",
      "execution_count": null,
      "metadata": {
        "id": "1AptfB46q5Vf",
        "outputId": "cc862e7f-620e-44e5-a43c-f156e92cc42d"
      },
      "outputs": [
        {
          "data": {
            "text/plain": [
              "[0, 1, 2, 3, 4, 5, 6, 7]"
            ]
          },
          "execution_count": 47,
          "metadata": {},
          "output_type": "execute_result"
        }
      ],
      "source": [
        "# insert the value 2 at index 2\n",
        "a.insert(2, 2)\n",
        "a"
      ]
    },
    {
      "cell_type": "markdown",
      "metadata": {
        "id": "LaWN4ZV0q5Vf"
      },
      "source": [
        "### String Methods\n",
        "* All Common Sequence Operations\n",
        "* All methods defined at https://docs.python.org/3/library/stdtypes.html#string-methods such as:\n",
        "  * `str.endswith(suffix[, start[, end]])`: \"Return `True` if the string ends with the specified *suffix*, otherwise return `False`.\"\n",
        "  * `str.find(sub[, start[, end]])`: \"Return the lowest index in the string where substring *sub* is found within the slice `s[start:end]`. Optional arguments *start* and *end* are interpreted as in slice notation. Return `-1` if *sub* is not found.\"\n",
        "  * `str.format(*args, **kwargs)`: \"Perform a string formatting operation\"\n",
        "  * `str.join(iterable)`: \"Return a string which is the concatenation of the strings in *iterable*\"\n",
        "  * `str.lower()`: \"Return a copy of the string with all the cased characters converted to lowercase.\"\n",
        "  * `str.replace(old, new[, count])`: \"Return a copy of the string with all occurrences of substring *old* replaced by *new*\"\n",
        "  * `str.split(sep=None, maxsplit=-1)`: \"Return a list of the words in the string, using *sep* as the delimiter string\"\n",
        "  * `str.startswith(prefix[, start[, end]])`: \"Return `True` if string starts with the *prefix*, otherwise return `False`\"\n",
        "  * `str.upper()`: \"Return a copy of the string with all the cased characters converted to uppercase\"\n",
        "  * ..."
      ]
    },
    {
      "cell_type": "code",
      "execution_count": null,
      "metadata": {
        "id": "W8wDCMflq5Vf",
        "outputId": "121d7b8d-b513-4bd0-ff96-e39cc484ef64"
      },
      "outputs": [
        {
          "data": {
            "text/plain": [
              "True"
            ]
          },
          "execution_count": 48,
          "metadata": {},
          "output_type": "execute_result"
        }
      ],
      "source": [
        "\"text that ends with a word\".endswith(\"word\")"
      ]
    },
    {
      "cell_type": "code",
      "execution_count": null,
      "metadata": {
        "id": "5NXIbwrcq5Vg",
        "outputId": "0380569c-b484-43c4-ea38-514a643695f1"
      },
      "outputs": [
        {
          "data": {
            "text/plain": [
              "2"
            ]
          },
          "execution_count": 49,
          "metadata": {},
          "output_type": "execute_result"
        }
      ],
      "source": [
        "\"text\".find(\"x\")"
      ]
    },
    {
      "cell_type": "code",
      "execution_count": null,
      "metadata": {
        "id": "CcJX7Pxpq5Vg",
        "outputId": "0f722317-7532-47fc-f696-a65d85e67cda"
      },
      "outputs": [
        {
          "data": {
            "text/plain": [
              "'3 - 2 is 1'"
            ]
          },
          "execution_count": 50,
          "metadata": {},
          "output_type": "execute_result"
        }
      ],
      "source": [
        "\"3 - 2 is {}\".format(3-2)"
      ]
    },
    {
      "cell_type": "code",
      "execution_count": null,
      "metadata": {
        "id": "WSLY7FfCq5Vg",
        "outputId": "0004a7f6-d74c-43f2-b388-23117aa36954"
      },
      "outputs": [
        {
          "data": {
            "text/plain": [
              "'a-b-c'"
            ]
          },
          "execution_count": 51,
          "metadata": {},
          "output_type": "execute_result"
        }
      ],
      "source": [
        "\"-\".join([\"a\", \"b\", \"c\"])"
      ]
    },
    {
      "cell_type": "code",
      "execution_count": null,
      "metadata": {
        "id": "J9GOu0wLq5Vg",
        "outputId": "b77d6cfd-a49b-498b-a8bd-858b27487faf"
      },
      "outputs": [
        {
          "data": {
            "text/plain": [
              "'text'"
            ]
          },
          "execution_count": 52,
          "metadata": {},
          "output_type": "execute_result"
        }
      ],
      "source": [
        "\"TEXT\".lower()"
      ]
    },
    {
      "cell_type": "code",
      "execution_count": null,
      "metadata": {
        "id": "8Yo_9orUq5Vg",
        "outputId": "b40de530-c26b-4868-fc4b-aa833f2dae6d"
      },
      "outputs": [
        {
          "data": {
            "text/plain": [
              "'I like food'"
            ]
          },
          "execution_count": 53,
          "metadata": {},
          "output_type": "execute_result"
        }
      ],
      "source": [
        "\"I like music\".replace(\"music\", \"food\")"
      ]
    },
    {
      "cell_type": "code",
      "execution_count": null,
      "metadata": {
        "id": "_A-fmlw9q5Vg",
        "outputId": "5b999da2-790f-4030-aedd-9c09893d5f9a"
      },
      "outputs": [
        {
          "data": {
            "text/plain": [
              "['a', 'b', 'c']"
            ]
          },
          "execution_count": 54,
          "metadata": {},
          "output_type": "execute_result"
        }
      ],
      "source": [
        "\"a-b-c\".split(\"-\")"
      ]
    },
    {
      "cell_type": "code",
      "execution_count": null,
      "metadata": {
        "id": "MHhm-9WHq5Vh",
        "outputId": "bfc6b48d-e53d-485e-b989-f2e5706ec32f"
      },
      "outputs": [
        {
          "data": {
            "text/plain": [
              "True"
            ]
          },
          "execution_count": 55,
          "metadata": {},
          "output_type": "execute_result"
        }
      ],
      "source": [
        "\"This sentence starts with 'This'\".startswith(\"This\")"
      ]
    },
    {
      "cell_type": "code",
      "execution_count": null,
      "metadata": {
        "id": "DeexkxDJq5Vh",
        "outputId": "4e7810ec-3f50-4f81-d364-d4b39d3fec56"
      },
      "outputs": [
        {
          "data": {
            "text/plain": [
              "'TEXT'"
            ]
          },
          "execution_count": 56,
          "metadata": {},
          "output_type": "execute_result"
        }
      ],
      "source": [
        "\"text\".upper()"
      ]
    },
    {
      "cell_type": "markdown",
      "metadata": {
        "id": "vuQx8qpTq5Vh"
      },
      "source": [
        "#### String  Formating with .format()"
      ]
    },
    {
      "cell_type": "code",
      "execution_count": null,
      "metadata": {
        "id": "7uvRgIhVq5Vh",
        "outputId": "71165245-6d15-4cc8-f371-b609d3732985"
      },
      "outputs": [
        {
          "data": {
            "text/plain": [
              "'one 2'"
            ]
          },
          "execution_count": 57,
          "metadata": {},
          "output_type": "execute_result"
        }
      ],
      "source": [
        "\"{} {}\".format('one', 2)"
      ]
    },
    {
      "cell_type": "code",
      "execution_count": null,
      "metadata": {
        "scrolled": true,
        "id": "9tLKZ6GKq5Vh",
        "outputId": "ce6dd77a-56c7-4043-ebe8-a6b438511a31"
      },
      "outputs": [
        {
          "data": {
            "text/plain": [
              "'one 2'"
            ]
          },
          "execution_count": 58,
          "metadata": {},
          "output_type": "execute_result"
        }
      ],
      "source": [
        "'{a} {b}'.format(a='one', b=2)"
      ]
    },
    {
      "cell_type": "code",
      "execution_count": null,
      "metadata": {
        "id": "9A7IcDEWq5Vi",
        "outputId": "e4eae20b-a28e-4a78-9412-162686daf2ce"
      },
      "outputs": [
        {
          "data": {
            "text/plain": [
              "'      test'"
            ]
          },
          "execution_count": 59,
          "metadata": {},
          "output_type": "execute_result"
        }
      ],
      "source": [
        "'{:>10}'.format('test')"
      ]
    },
    {
      "cell_type": "code",
      "execution_count": null,
      "metadata": {
        "id": "demeH99sq5Vi",
        "outputId": "5ad721fb-6203-4575-a729-281b8585c0ff"
      },
      "outputs": [
        {
          "data": {
            "text/plain": [
              "'test      '"
            ]
          },
          "execution_count": 60,
          "metadata": {},
          "output_type": "execute_result"
        }
      ],
      "source": [
        "'{:<10}'.format('test')"
      ]
    },
    {
      "cell_type": "code",
      "execution_count": null,
      "metadata": {
        "id": "_dqtYtQZq5Vi",
        "outputId": "6263867a-2b8f-4a07-998a-a9fe844eb7b0"
      },
      "outputs": [
        {
          "data": {
            "text/plain": [
              "'_test__'"
            ]
          },
          "execution_count": 61,
          "metadata": {},
          "output_type": "execute_result"
        }
      ],
      "source": [
        "'{:_^7}'.format('test')"
      ]
    },
    {
      "cell_type": "code",
      "execution_count": null,
      "metadata": {
        "scrolled": true,
        "id": "qxD44Rjtq5Vi",
        "outputId": "be304a07-452d-43a3-b5d2-5eba8f09440f"
      },
      "outputs": [
        {
          "data": {
            "text/plain": [
              "'xylop'"
            ]
          },
          "execution_count": 62,
          "metadata": {},
          "output_type": "execute_result"
        }
      ],
      "source": [
        "'{:.5}'.format('xylophone')"
      ]
    },
    {
      "cell_type": "code",
      "execution_count": null,
      "metadata": {
        "id": "vLKH_z-sq5Vi",
        "outputId": "d907a767-e4ab-48f7-de30-deaf12caef5a"
      },
      "outputs": [
        {
          "data": {
            "text/plain": [
              "'3.141593'"
            ]
          },
          "execution_count": 63,
          "metadata": {},
          "output_type": "execute_result"
        }
      ],
      "source": [
        "'{:f}'.format(3.141592653589793)"
      ]
    },
    {
      "cell_type": "code",
      "execution_count": null,
      "metadata": {
        "id": "Nyv5Jxwqq5Vi",
        "outputId": "be9485be-dc05-4570-9556-17f6703cd26a"
      },
      "outputs": [
        {
          "data": {
            "text/plain": [
              "'003.14'"
            ]
          },
          "execution_count": 64,
          "metadata": {},
          "output_type": "execute_result"
        }
      ],
      "source": [
        "'{:06.2f}'.format(3.141592653589793)"
      ]
    },
    {
      "cell_type": "code",
      "execution_count": null,
      "metadata": {
        "id": "NCKgJ7iFq5Vj",
        "outputId": "6cfe4d2a-f684-4825-ab39-96b8be7a2130"
      },
      "outputs": [
        {
          "data": {
            "text/plain": [
              "' 3.140000; -3.140000'"
            ]
          },
          "execution_count": 65,
          "metadata": {},
          "output_type": "execute_result"
        }
      ],
      "source": [
        "'{: f}; {: f}'.format(3.14, -3.14)  # show a space for positive numbers"
      ]
    },
    {
      "cell_type": "markdown",
      "metadata": {
        "id": "8aTOT5hiq5Vj"
      },
      "source": [
        "### Exercises\n",
        "\n",
        "1- https://codingbat.com/python/String-1\n",
        "\n",
        "2- https://codingbat.com/python/String-2"
      ]
    },
    {
      "cell_type": "markdown",
      "metadata": {
        "id": "NnI5e5igq5Vj"
      },
      "source": [
        "## None\n",
        "* \"Used to represent the absence of a value\"\n",
        "* \"The sole value of the type `NoneType`\"\n",
        "\n",
        "https://docs.python.org/3.7/library/constants.html"
      ]
    },
    {
      "cell_type": "code",
      "execution_count": null,
      "metadata": {
        "id": "sH2v_kzgq5Vj",
        "outputId": "42fa6783-7023-4024-9af3-be133144193d"
      },
      "outputs": [
        {
          "data": {
            "text/plain": [
              "NoneType"
            ]
          },
          "execution_count": 66,
          "metadata": {},
          "output_type": "execute_result"
        }
      ],
      "source": [
        "n = None\n",
        "type(n)"
      ]
    },
    {
      "cell_type": "markdown",
      "metadata": {
        "id": "QyNLgfyoq5Vj"
      },
      "source": [
        "# Data Structures in Python\n",
        "\n",
        "## Tuples\n",
        "* Immutable sequences\n",
        "* Can be used for homogeneous and heterogeneous data\n",
        "* Constructed by:\n",
        "  * Pair of parentheses `()` for an empty tuple\n",
        "  * \"Trailing comma for a singleton tuple\" `a,` or `(a,)`\n",
        "  * \"Separating items with commas: `a, b, c` or `(a, b, c)`\n",
        "  * Using `tuple()` or `tuple(iterable)`\n",
        "* Apart from the empty tuple, the parantheses are optional: the comma makes the tuple\n",
        "  \n",
        "https://docs.python.org/3/library/stdtypes.html#tuples"
      ]
    },
    {
      "cell_type": "code",
      "execution_count": null,
      "metadata": {
        "id": "SFQaxEuOq5Vk",
        "outputId": "99a36157-0d58-4025-c017-56a8273fb408"
      },
      "outputs": [
        {
          "data": {
            "text/plain": [
              "()"
            ]
          },
          "execution_count": 67,
          "metadata": {},
          "output_type": "execute_result"
        }
      ],
      "source": [
        "e = ()\n",
        "e"
      ]
    },
    {
      "cell_type": "code",
      "execution_count": null,
      "metadata": {
        "id": "LpAN0-33q5Vk",
        "outputId": "30057aff-c1e3-453a-b2ba-da2cafb440bb"
      },
      "outputs": [
        {
          "data": {
            "text/plain": [
              "tuple"
            ]
          },
          "execution_count": 68,
          "metadata": {},
          "output_type": "execute_result"
        }
      ],
      "source": [
        "type(e)"
      ]
    },
    {
      "cell_type": "code",
      "execution_count": null,
      "metadata": {
        "id": "Vl2wzbN1q5Vk",
        "outputId": "ac5e623d-217b-44b5-adda-078dcd1a1b03"
      },
      "outputs": [
        {
          "data": {
            "text/plain": [
              "(1,)"
            ]
          },
          "execution_count": 69,
          "metadata": {},
          "output_type": "execute_result"
        }
      ],
      "source": [
        "a = 1\n",
        "t = (a,)\n",
        "t"
      ]
    },
    {
      "cell_type": "code",
      "execution_count": null,
      "metadata": {
        "id": "r7R8btdmq5Vk",
        "outputId": "83bd78f3-6580-450b-ea29-b007e93c171f"
      },
      "outputs": [
        {
          "data": {
            "text/plain": [
              "(1, 2, 3)"
            ]
          },
          "execution_count": 70,
          "metadata": {},
          "output_type": "execute_result"
        }
      ],
      "source": [
        "a, b, c = 1, 2, 3\n",
        "\n",
        "t = (a, b, c, )\n",
        "\n",
        "#t[0] = 4\n",
        "# TypeError: 'tuple' object does not support item assignment\n",
        "\n",
        "t"
      ]
    },
    {
      "cell_type": "markdown",
      "metadata": {
        "id": "WdUhePXMq5Vk"
      },
      "source": [
        "**Pay attention on how you define your tuples. Ambiguity!**"
      ]
    },
    {
      "cell_type": "code",
      "execution_count": null,
      "metadata": {
        "id": "ZOgR1m5Qq5Vl",
        "outputId": "92080f97-7767-4f44-d195-b51c38e7e435"
      },
      "outputs": [
        {
          "data": {
            "text/plain": [
              "('abc',)"
            ]
          },
          "execution_count": 71,
          "metadata": {},
          "output_type": "execute_result"
        }
      ],
      "source": [
        "# ['abc'] is the only element in a list of elements\n",
        "tuple(['abc'])"
      ]
    },
    {
      "cell_type": "code",
      "execution_count": null,
      "metadata": {
        "id": "75g7sxX1q5Vl",
        "outputId": "0b5552ff-3bae-4bd8-982b-0b24c98deb7d"
      },
      "outputs": [
        {
          "data": {
            "text/plain": [
              "('a', 'b', 'c')"
            ]
          },
          "execution_count": 72,
          "metadata": {},
          "output_type": "execute_result"
        }
      ],
      "source": [
        "# 'abc' is a string sequence of three characters: tuple() expects an iterable!\n",
        "tuple('abc')"
      ]
    },
    {
      "cell_type": "code",
      "execution_count": null,
      "metadata": {
        "id": "EwpHTbfNq5Vl",
        "outputId": "efe12ca6-e9c9-4ed4-f569-f953eb4480d4"
      },
      "outputs": [
        {
          "data": {
            "text/plain": [
              "(1, 2, 3, 4, 5)"
            ]
          },
          "execution_count": 73,
          "metadata": {},
          "output_type": "execute_result"
        }
      ],
      "source": [
        "# + calls sequence.extend on the tuples\n",
        "(1, 2, 3) + (4, 5)"
      ]
    },
    {
      "cell_type": "code",
      "execution_count": null,
      "metadata": {
        "id": "yqbXCo_0q5Vl",
        "outputId": "aeb9a5f7-208c-4338-86cc-831df33959eb"
      },
      "outputs": [
        {
          "data": {
            "text/plain": [
              "(1, 2, 7, 5)"
            ]
          },
          "execution_count": 74,
          "metadata": {},
          "output_type": "execute_result"
        }
      ],
      "source": [
        "# + sums the elements\n",
        "1, 2, 3 + 4, 5"
      ]
    },
    {
      "cell_type": "markdown",
      "metadata": {
        "id": "aBrGDZvLq5Vl"
      },
      "source": [
        "## Lists\n",
        "* Mutable sequences\n",
        "* **Typically** used for homogeneous data\n",
        "  * Items in the list can have different data types\n",
        "* Constructed by:\n",
        "  * Pair of quare brackets `[]` for an empty list\n",
        "  * \"Using square brackets, separating items with commas: `[a]` or `[a, b, c]`\"\n",
        "  * \"Using a list comprehension `[x for x in iterable]`\"\n",
        "  * Using  `list()` or `list(iterable)`\n",
        "\n",
        "https://docs.python.org/3/library/stdtypes.html#lists"
      ]
    },
    {
      "cell_type": "code",
      "execution_count": null,
      "metadata": {
        "id": "rHXqnolvq5Vl",
        "outputId": "8bf1f0a5-2956-4f7d-9dcc-ef2e52aa15c5"
      },
      "outputs": [
        {
          "data": {
            "text/plain": [
              "[]"
            ]
          },
          "execution_count": 75,
          "metadata": {},
          "output_type": "execute_result"
        }
      ],
      "source": [
        "i = []\n",
        "i"
      ]
    },
    {
      "cell_type": "code",
      "execution_count": null,
      "metadata": {
        "id": "M4n42dPQq5Vm",
        "outputId": "d2b01a5b-5507-4213-a0b4-6b8270d7a9c1"
      },
      "outputs": [
        {
          "data": {
            "text/plain": [
              "list"
            ]
          },
          "execution_count": 76,
          "metadata": {},
          "output_type": "execute_result"
        }
      ],
      "source": [
        "type(i)"
      ]
    },
    {
      "cell_type": "code",
      "execution_count": null,
      "metadata": {
        "id": "VrnS7rr7q5Vm",
        "outputId": "23ca86fc-fb1a-4e9e-882d-21505688bdc3"
      },
      "outputs": [
        {
          "data": {
            "text/plain": [
              "[1]"
            ]
          },
          "execution_count": 77,
          "metadata": {},
          "output_type": "execute_result"
        }
      ],
      "source": [
        "a = 1\n",
        "i = [a]\n",
        "i"
      ]
    },
    {
      "cell_type": "code",
      "execution_count": null,
      "metadata": {
        "id": "rMeiVnEEq5Vm",
        "outputId": "9829e599-ae9f-485c-bb68-6b062e01c29c"
      },
      "outputs": [
        {
          "data": {
            "text/plain": [
              "[4, 2, 3]"
            ]
          },
          "execution_count": 78,
          "metadata": {},
          "output_type": "execute_result"
        }
      ],
      "source": [
        "a, b, c = 1, 2, 3\n",
        "i = [a, b, c]\n",
        "i[0] = 4\n",
        "i"
      ]
    },
    {
      "cell_type": "code",
      "execution_count": null,
      "metadata": {
        "id": "_Yf4xHR0q5Vm",
        "outputId": "f8ff32eb-f5e0-4803-dc89-c6ff508082fe"
      },
      "outputs": [
        {
          "data": {
            "text/plain": [
              "[4, 5, 6]"
            ]
          },
          "execution_count": 79,
          "metadata": {},
          "output_type": "execute_result"
        }
      ],
      "source": [
        "[x for x in [4, 5, 6]]"
      ]
    },
    {
      "cell_type": "code",
      "execution_count": null,
      "metadata": {
        "id": "vNFxkSYiq5Vm",
        "outputId": "8e192ee6-3c93-4cd8-abc2-f0d7acc1708d"
      },
      "outputs": [
        {
          "name": "stdout",
          "output_type": "stream",
          "text": [
            "[4, 5, 6]\n"
          ]
        }
      ],
      "source": [
        "i = []\n",
        "for x in [4, 5, 6]:\n",
        "    i.append(x)\n",
        "print(i)"
      ]
    },
    {
      "cell_type": "code",
      "execution_count": null,
      "metadata": {
        "id": "SeZCbpP4q5Vp",
        "outputId": "c1e3458f-bd7f-4d64-9d76-537db216f0b6"
      },
      "outputs": [
        {
          "data": {
            "text/plain": [
              "['a', 'b', 'c']"
            ]
          },
          "execution_count": 81,
          "metadata": {},
          "output_type": "execute_result"
        }
      ],
      "source": [
        "list('abc')"
      ]
    },
    {
      "cell_type": "code",
      "execution_count": null,
      "metadata": {
        "id": "r3UkHq8Zq5Vp",
        "outputId": "7242ce46-3882-4d4f-ebf3-42258cd0ce4f"
      },
      "outputs": [
        {
          "data": {
            "text/plain": [
              "['abc']"
            ]
          },
          "execution_count": 82,
          "metadata": {},
          "output_type": "execute_result"
        }
      ],
      "source": [
        "list(['abc'])"
      ]
    },
    {
      "cell_type": "code",
      "execution_count": null,
      "metadata": {
        "id": "Cxz6a5kKq5Vp",
        "outputId": "4e64a217-8ceb-4d76-9fbc-b46c89ebe868"
      },
      "outputs": [
        {
          "name": "stdout",
          "output_type": "stream",
          "text": [
            "<class 'int'>\n",
            "<class 'str'>\n"
          ]
        }
      ],
      "source": [
        "# items in a list can have different data types\n",
        "for i in [1, 'a']:\n",
        "    print(type(i))"
      ]
    },
    {
      "cell_type": "markdown",
      "metadata": {
        "id": "snly2h-qq5Vp"
      },
      "source": [
        "### Lists vs Tuples\n",
        "| -           | Lists                          | Tuples                       |\n",
        "|:------------|:-------------------------------|:-----------------------------|\n",
        "| Sequence    | mutable                        | imutable                     |\n",
        "| Items       | homogeneous (or heterogeneous) | homogeneous or heterogeneous |\n",
        "| Constructor | `list()`                       | `tuple()`                    |\n",
        "| Parntheses  | `[]`                           | `()`                         |\n",
        "\n",
        "\n",
        "### List Methods\n",
        "* All common and mutable sequence operations\n",
        "* The `sort(*, key=None, reverse=False)` method:\n",
        "  * \"This method sorts the list in place, using only < comparisons between items.\"\n",
        "  * \"*key* specifies a function of one argument that is used to extract a comparison key from each list element (for example, `key=str.lower`).\"\n"
      ]
    },
    {
      "cell_type": "code",
      "execution_count": null,
      "metadata": {
        "id": "5O9RBjFXq5Vq",
        "outputId": "30dc32fe-2433-4b79-9385-ee5379e97fb6"
      },
      "outputs": [
        {
          "data": {
            "text/plain": [
              "[1, 2, 3, 4, 5, 6, 7, 8, 9]"
            ]
          },
          "execution_count": 84,
          "metadata": {},
          "output_type": "execute_result"
        }
      ],
      "source": [
        "i = [5, 3, 7, 6, 4, 1, 9, 2, 8]\n",
        "i.sort()\n",
        "i"
      ]
    },
    {
      "cell_type": "code",
      "execution_count": null,
      "metadata": {
        "id": "w97mo6cmq5Vq",
        "outputId": "0b0e18d0-b972-4682-90ba-c149c445c4c8"
      },
      "outputs": [
        {
          "data": {
            "text/plain": [
              "[1, 2, 3, 4, 5, 6, 7, 8, 9, 10]"
            ]
          },
          "execution_count": 85,
          "metadata": {},
          "output_type": "execute_result"
        }
      ],
      "source": [
        "i.append(10)\n",
        "i"
      ]
    },
    {
      "cell_type": "code",
      "execution_count": null,
      "metadata": {
        "id": "RaubAtw9q5Vq",
        "outputId": "07793a54-9e82-4cc6-f4da-0ae5a6ba63b9"
      },
      "outputs": [
        {
          "data": {
            "text/plain": [
              "[1, 2, 3, 4, 6, 7, 8, 9, 10]"
            ]
          },
          "execution_count": 86,
          "metadata": {},
          "output_type": "execute_result"
        }
      ],
      "source": [
        "i.remove(5)\n",
        "i"
      ]
    },
    {
      "cell_type": "code",
      "execution_count": null,
      "metadata": {
        "id": "OFbNOeQ-q5Vq",
        "outputId": "7845dc45-ca0a-424e-c467-e40e7514406c"
      },
      "outputs": [
        {
          "data": {
            "text/plain": [
              "3"
            ]
          },
          "execution_count": 87,
          "metadata": {},
          "output_type": "execute_result"
        }
      ],
      "source": [
        "i.index(4)"
      ]
    },
    {
      "cell_type": "code",
      "execution_count": null,
      "metadata": {
        "id": "wIuYmoKCq5Vq",
        "outputId": "15b243f8-2e6e-4c73-82f4-a62ab25d2ea8"
      },
      "outputs": [
        {
          "data": {
            "text/plain": [
              "[1, 2, 3, 4, 5, 6, 7, 8, 9, 10]"
            ]
          },
          "execution_count": 88,
          "metadata": {},
          "output_type": "execute_result"
        }
      ],
      "source": [
        "i.insert(4, 5)  # index, value\n",
        "i"
      ]
    },
    {
      "cell_type": "code",
      "execution_count": null,
      "metadata": {
        "id": "IuS0Eh1Xq5Vr",
        "outputId": "92616849-b245-4724-caea-4cefbcde8c6e"
      },
      "outputs": [
        {
          "data": {
            "text/plain": [
              "[1, 2, 3, 4, 5, 6, 7, 8, 9, 10, 11, 12, 13]"
            ]
          },
          "execution_count": 89,
          "metadata": {},
          "output_type": "execute_result"
        }
      ],
      "source": [
        "i.extend([11, 12, 13])\n",
        "i"
      ]
    },
    {
      "cell_type": "code",
      "execution_count": null,
      "metadata": {
        "id": "5lTN_namq5Vr",
        "outputId": "416b3de7-5ffd-49b4-fc2e-e9dfa221d251"
      },
      "outputs": [
        {
          "data": {
            "text/plain": [
              "[1, 2, 3, 4, 5, 6, 7, 8, 9, 10, 11, 12]"
            ]
          },
          "execution_count": 90,
          "metadata": {},
          "output_type": "execute_result"
        }
      ],
      "source": [
        "# removes and returns last value from the list\n",
        "i.pop()\n",
        "i"
      ]
    },
    {
      "cell_type": "code",
      "execution_count": null,
      "metadata": {
        "id": "TSStDpNhq5Vr",
        "outputId": "bef78d7f-6bf8-4349-9814-881295dafcb5"
      },
      "outputs": [
        {
          "data": {
            "text/plain": [
              "[2, 3, 4, 5, 6, 7, 8, 9, 10, 11, 12]"
            ]
          },
          "execution_count": 91,
          "metadata": {},
          "output_type": "execute_result"
        }
      ],
      "source": [
        "# removes and returns the given index value\n",
        "i.pop(0)\n",
        "i"
      ]
    },
    {
      "cell_type": "code",
      "execution_count": null,
      "metadata": {
        "id": "O6Y2QFMvq5Vr",
        "outputId": "672e2c10-5187-4fff-8bbf-54bad71a78de"
      },
      "outputs": [
        {
          "data": {
            "text/plain": [
              "[2, 3, 4, 5, 6, 7, 8, 9, 10, 11]"
            ]
          },
          "execution_count": 92,
          "metadata": {},
          "output_type": "execute_result"
        }
      ],
      "source": [
        "i.pop()\n",
        "i"
      ]
    },
    {
      "cell_type": "code",
      "execution_count": null,
      "metadata": {
        "id": "tWEoHGkwq5Vr",
        "outputId": "92df9a4d-8696-4d58-d056-116cb4c6edb3"
      },
      "outputs": [
        {
          "data": {
            "text/plain": [
              "[11, 10, 9, 8, 7, 6, 5, 4, 3, 2]"
            ]
          },
          "execution_count": 93,
          "metadata": {},
          "output_type": "execute_result"
        }
      ],
      "source": [
        "i.reverse()\n",
        "i"
      ]
    },
    {
      "cell_type": "markdown",
      "metadata": {
        "id": "Z_7bsQAeq5Vr"
      },
      "source": [
        "### Exercises\n",
        "\n",
        "1- https://codingbat.com/python/List-1\n",
        "\n",
        "2- https://codingbat.com/python/List-2"
      ]
    },
    {
      "cell_type": "markdown",
      "metadata": {
        "id": "QjF4cVINq5Vs"
      },
      "source": [
        "## Sets\n",
        "* \"Unordered collection of distinct hashable objects\"\n",
        "* Mutable with methods that can change the contents:\n",
        "  * `add(elem)`\n",
        "  * `discard(elem)`\n",
        "  * `remove(elem)`\n",
        "  * `pop()`: \"Remove and return an arbitrary element from the set. Raises KeyError if the set is empty.\"\n",
        "  * `clear()`\n",
        "  * `update(*others)` or `set |= other | ...`: \"Update the set, adding elements from all others.\"\n",
        "  * `intersection_update(*others)` or `set &= other & ...`: \"Update the set, keeping only elements found in it and all others.\"\n",
        "  * `difference_update(*others)` or `set -= other | ...`: \"Update the set, removing elements found in others.\"\n",
        "  * `symmetric_difference_update(other)` or `set ^= other`: \"Update the set, keeping only elements found in either set, but not in both.\"\n",
        "* Common uses\n",
        "  * Membership testing\n",
        "  * Removing duplicates\n",
        "  * Mathematical operations: union, intersection, (symmetric) difference\n",
        "* No inserting order or indexing supported\n",
        "* Constructed by\n",
        "  * \"Comma-separated list of elements within braces\": `{0, 1, 2}`\n",
        "  * Using `set()` or `set(iterable)`\n",
        "  \n",
        "https://docs.python.org/3/library/stdtypes.html#set-types-set-frozenset\n",
        "\n",
        "### Frozenset\n",
        "* Immutable and hashable set\n",
        "* Can \"be used as a dictionary key or as an element of another set\"\n",
        "* Constructed by using `frozenset()` or `frozenset(iterable)`\n",
        "\n",
        "https://docs.python.org/3/library/stdtypes.html#set-types-set-frozenset\n",
        "\n",
        "\n",
        "### Set Operations\n",
        "For set and frozenset:\n",
        "* `len(s)`: Cardinality (number of elements) of s\n",
        "* `x in s`: Membership test\n",
        "* `x not in s`: Non-membership test\n",
        "* `isdisjoint(other)`\n",
        "* `issubset(other)`\n",
        "* `set <= other`: \"Test whether every element in the set s is in other\"\n",
        "* `set < other`: \"Test whether the set is a proper subset of other, that is, `set <= other` and `set != other`.\"\n",
        "* `issuperset(other)`\n",
        "* `set >= other`: \"Test whether every element in other is in the set.\"\n",
        "* `set > other`: \"Test whether the set is a proper superset of other, that is, `set >= other` and `set != other`.\"\n",
        "* `union(*others)`\n",
        "* `set | other | ...`: \"Return a new set with elements from the set and all others.\"\n",
        "* `intersection(*others)`\n",
        "* `set & other & ...`: \"Return a new set with elements common to the set and all others.\"\n",
        "* `difference(*others)`\n",
        "* `set - other - ...`: \"Return a new set with elements in the set that are not in the others.\"\n",
        "* `symmetric_difference(other)`\n",
        "* `set ^ other`: \"Return a new set with elements in either the set or other but not both.\"\n",
        "* `copy()`: \"Return a shallow copy of the set.\"\n",
        "\n",
        "https://docs.python.org/3/library/stdtypes.html#set-types-set-frozenset\n",
        "\n",
        "\n",
        "\n",
        "Set Methods\n",
        "Set Operations\n",
        "&, |, ^ ..."
      ]
    },
    {
      "cell_type": "code",
      "execution_count": null,
      "metadata": {
        "id": "wIEGpg4Eq5Vs",
        "outputId": "955b58a7-9f48-4707-8122-9e5588bbaf2c"
      },
      "outputs": [
        {
          "data": {
            "text/plain": [
              "{1, 2, 3}"
            ]
          },
          "execution_count": 94,
          "metadata": {},
          "output_type": "execute_result"
        }
      ],
      "source": [
        "s = {1, 2, 3}\n",
        "s"
      ]
    },
    {
      "cell_type": "code",
      "execution_count": null,
      "metadata": {
        "id": "-8WqvA-yq5Vs",
        "outputId": "83771ca6-91ce-4fe2-8d3f-b91c04317ae6"
      },
      "outputs": [
        {
          "data": {
            "text/plain": [
              "3"
            ]
          },
          "execution_count": 95,
          "metadata": {},
          "output_type": "execute_result"
        }
      ],
      "source": [
        "len(s)"
      ]
    },
    {
      "cell_type": "code",
      "execution_count": null,
      "metadata": {
        "id": "pB2RdnE7q5Vs",
        "outputId": "e32f7ca9-18be-4d54-adf3-3dc13f089f96"
      },
      "outputs": [
        {
          "data": {
            "text/plain": [
              "False"
            ]
          },
          "execution_count": 96,
          "metadata": {},
          "output_type": "execute_result"
        }
      ],
      "source": [
        "0 in s"
      ]
    },
    {
      "cell_type": "code",
      "execution_count": null,
      "metadata": {
        "id": "KROf5De6q5Vs",
        "outputId": "5637962f-8591-49ef-d1a2-3717b5637583"
      },
      "outputs": [
        {
          "data": {
            "text/plain": [
              "{0, 1, 2, 3}"
            ]
          },
          "execution_count": 97,
          "metadata": {},
          "output_type": "execute_result"
        }
      ],
      "source": [
        "s.add(0)\n",
        "s"
      ]
    },
    {
      "cell_type": "code",
      "execution_count": null,
      "metadata": {
        "id": "-3aIxCo0q5Vt",
        "outputId": "1638da61-8125-4f5d-8605-5648d681bdd5"
      },
      "outputs": [
        {
          "data": {
            "text/plain": [
              "{0, 1, 2}"
            ]
          },
          "execution_count": 98,
          "metadata": {},
          "output_type": "execute_result"
        }
      ],
      "source": [
        "s.remove(3)\n",
        "s"
      ]
    },
    {
      "cell_type": "markdown",
      "metadata": {
        "id": "cWMJvCm1q5Vt"
      },
      "source": [
        "Sets are disjoint if and only if their intersection is the empty set."
      ]
    },
    {
      "cell_type": "code",
      "execution_count": null,
      "metadata": {
        "id": "45tBb0tPq5Vt",
        "outputId": "2fd1741a-c29f-451a-eb12-1c13b3da1e21"
      },
      "outputs": [
        {
          "data": {
            "text/plain": [
              "False"
            ]
          },
          "execution_count": 99,
          "metadata": {},
          "output_type": "execute_result"
        }
      ],
      "source": [
        "t = {0, 1, 2, 3, 4, 5}\n",
        "s.isdisjoint(t)"
      ]
    },
    {
      "cell_type": "code",
      "execution_count": null,
      "metadata": {
        "id": "InGq5nEkq5Vt",
        "outputId": "fd0b2bd1-6e68-4e35-d04a-e331fb17a7ac"
      },
      "outputs": [
        {
          "data": {
            "text/plain": [
              "True"
            ]
          },
          "execution_count": 100,
          "metadata": {},
          "output_type": "execute_result"
        }
      ],
      "source": [
        "s.issubset(t)"
      ]
    },
    {
      "cell_type": "code",
      "execution_count": null,
      "metadata": {
        "id": "Vq2nNHKPq5Vt",
        "outputId": "c784c80e-0c54-43f0-9868-0c21fb02bb3f"
      },
      "outputs": [
        {
          "data": {
            "text/plain": [
              "True"
            ]
          },
          "execution_count": 101,
          "metadata": {},
          "output_type": "execute_result"
        }
      ],
      "source": [
        "s <= t"
      ]
    },
    {
      "cell_type": "code",
      "execution_count": null,
      "metadata": {
        "id": "ORYQP_voq5Vt",
        "outputId": "f3fc74f3-e67f-49df-c204-8991ef909b61"
      },
      "outputs": [
        {
          "data": {
            "text/plain": [
              "False"
            ]
          },
          "execution_count": 102,
          "metadata": {},
          "output_type": "execute_result"
        }
      ],
      "source": [
        "s > t"
      ]
    },
    {
      "cell_type": "code",
      "execution_count": null,
      "metadata": {
        "id": "H8OfIiOBq5Vu",
        "outputId": "233aea23-48e1-4d7c-d477-42160b9f2f1c"
      },
      "outputs": [
        {
          "data": {
            "text/plain": [
              "{0, 1, 2, 3, 4, 5}"
            ]
          },
          "execution_count": 103,
          "metadata": {},
          "output_type": "execute_result"
        }
      ],
      "source": [
        "u = s.union(t)\n",
        "u"
      ]
    },
    {
      "cell_type": "code",
      "execution_count": null,
      "metadata": {
        "id": "v79ht5Hwq5Vu",
        "outputId": "107d7ec5-ade8-4d5f-bfdc-795942861c11"
      },
      "outputs": [
        {
          "data": {
            "text/plain": [
              "{0, 1, 2}"
            ]
          },
          "execution_count": 104,
          "metadata": {},
          "output_type": "execute_result"
        }
      ],
      "source": [
        "s.intersection(t)"
      ]
    },
    {
      "cell_type": "code",
      "execution_count": null,
      "metadata": {
        "id": "NDl11sVWq5Vu",
        "outputId": "89bcb4fd-61b7-428d-a1e6-32ee61cab9cc"
      },
      "outputs": [
        {
          "data": {
            "text/plain": [
              "set()"
            ]
          },
          "execution_count": 105,
          "metadata": {},
          "output_type": "execute_result"
        }
      ],
      "source": [
        "s.difference(t)"
      ]
    },
    {
      "cell_type": "code",
      "execution_count": null,
      "metadata": {
        "id": "yCcriasTq5Vu",
        "outputId": "e1c07959-b72b-4018-b828-56e36a560cde"
      },
      "outputs": [
        {
          "data": {
            "text/plain": [
              "{3, 4, 5}"
            ]
          },
          "execution_count": 106,
          "metadata": {},
          "output_type": "execute_result"
        }
      ],
      "source": [
        "t.symmetric_difference(s)"
      ]
    },
    {
      "cell_type": "code",
      "execution_count": null,
      "metadata": {
        "id": "u124DUKAq5Vu",
        "outputId": "e87fb794-a8fb-4481-faf9-b7fd53186a19"
      },
      "outputs": [
        {
          "data": {
            "text/plain": [
              "{1, 2}"
            ]
          },
          "execution_count": 107,
          "metadata": {},
          "output_type": "execute_result"
        }
      ],
      "source": [
        "s.pop()\n",
        "s"
      ]
    },
    {
      "cell_type": "code",
      "execution_count": null,
      "metadata": {
        "id": "88wci-1Zq5Vu",
        "outputId": "147ee729-9695-4aa6-acb1-7f2d3659c05a"
      },
      "outputs": [
        {
          "data": {
            "text/plain": [
              "set()"
            ]
          },
          "execution_count": 108,
          "metadata": {},
          "output_type": "execute_result"
        }
      ],
      "source": [
        "s.clear()\n",
        "s"
      ]
    },
    {
      "cell_type": "markdown",
      "metadata": {
        "id": "zggR1grPq5Vv"
      },
      "source": [
        "## Dictonaries\n",
        "* Mutable mapping object\n",
        "* \"Maps hashable values to arbitrary objects\"\n",
        "* Created by\n",
        "  * Pair of braces `{}` for an empty dict\n",
        "  * \"Comma-separated list of `key: value` pairs within braces\": `{'a': 12, 'b': 8, 'c': 2}`\n",
        "  * Using `dict()`, `dict(mapping)`, or `dict(iterable)`\n",
        "\n",
        "https://docs.python.org/3/library/stdtypes.html#mapping-types-dict\n",
        "\n",
        "### Dictionary Operations\n",
        "\n",
        "* `len(d)`\n",
        "* `d[key]`: \"Return the item of *d* with key *key*. Raises a KeyError if *key* is not in the map.\"\n",
        "* `d[key] = value`: \"Set `d[key]` to *value*.\"\n",
        "* `del d[key]`: \"Remove `d[key]` from *d*. Raises a KeyError if *key* is not in the map.\"\n",
        "* `key in d`: \"Return `True` if *d* has a key *key*, else `False`.\"\n",
        "* `key not in d`: \"Equivalent to `not key in d`.\"\n",
        "* `iter(d)`: \"Return an iterator over the keys of the dictionary. This is a shortcut for `iter(d.keys())`.:\n",
        "* `clear()`\" \"Remove all items from the dictionary.\"\n",
        "* `copy()`: \"Return a shallow copy of the dictionary.\"\n",
        "* `fromkeys(iterable[, value])`: \"Create a new dictionary with keys from *iterable* and values set to *value*. `fromkeys()` is a class method that returns a new dictionary. *value* defaults to `None`.\"\n",
        "* `get(key[, default])`: \"Return the value for *key* if *key* is in the dictionary, else *default*. If *default* is not given, it defaults to `None`, so that this method never raises a KeyError.\"\n",
        "* `items()`: \"Return a new view of the dictionary’s items (`(key, value)` pairs). See the [documentation of view objects](https://docs.python.org/3/library/stdtypes.html#dict-views).\"\n",
        "* `keys()`: \"Return a new view of the dictionary’s keys. See the [documentation of view objects](https://docs.python.org/3/library/stdtypes.html#dict-views).\"\n",
        "* `pop(key[, default])`: \"If *key* is in the dictionary, remove it and return its value, else return *default*. If *default* is not given and *key* is not in the dictionary, a KeyError is raised.\n",
        "* `popitem()`: \"Remove and return a `(key, value)` pair from the dictionary. Pairs are returned in LIFO (Last In First Out) order. `popitem()` is useful to destructively iterate over a dictionary, as often used in set algorithms. If the dictionary is empty, calling `popitem()` raises a KeyError.\"\n",
        "* `setdefault(key[, default])`: \"If *key* is in the dictionary, return its value. If not, insert *key* with a value of *default* and return *default*. *default* defaults to `None`.\"\n",
        "* `update([other])`: \"Update the dictionary with the key/value pairs from *other*, overwriting existing keys. Return `None`. `update()` accepts either another dictionary object or an iterable of key/value pairs (as tuples or other iterables of length two). If keyword arguments are specified, the dictionary is then updated with those key/value pairs: `d.update(red=1, blue=2)`.\"\n",
        "* `values()`: \"Return a new view of the dictionary’s values. See the [documentation of view objects](https://docs.python.org/3/library/stdtypes.html#dict-views).\"\n",
        "\n",
        "https://docs.python.org/3/library/stdtypes.html#mapping-types-dict"
      ]
    },
    {
      "cell_type": "code",
      "execution_count": null,
      "metadata": {
        "id": "0N_KFAjCq5Vv",
        "outputId": "a6fa9097-b7ae-49e1-d2dd-9266dd54703b"
      },
      "outputs": [
        {
          "data": {
            "text/plain": [
              "dict"
            ]
          },
          "execution_count": 109,
          "metadata": {},
          "output_type": "execute_result"
        }
      ],
      "source": [
        "d = {}\n",
        "type(d)"
      ]
    },
    {
      "cell_type": "code",
      "execution_count": null,
      "metadata": {
        "id": "OYzq8XhJq5Vv",
        "outputId": "0a3ef822-0e49-4204-aa59-ceca582f3941"
      },
      "outputs": [
        {
          "data": {
            "text/plain": [
              "{'one': 1, 'two': 2, 'three': 3, 'four': 4}"
            ]
          },
          "execution_count": 110,
          "metadata": {},
          "output_type": "execute_result"
        }
      ],
      "source": [
        "d = {\"one\": 1, \"two\": 2, \"three\": 3, \"four\": 4}\n",
        "d"
      ]
    },
    {
      "cell_type": "code",
      "execution_count": null,
      "metadata": {
        "id": "uYm8QcYwq5Vv",
        "outputId": "e5358fd9-876b-4bf8-b28a-bd67604271f8"
      },
      "outputs": [
        {
          "data": {
            "text/plain": [
              "dict_items([('one', 1), ('two', 2), ('three', 3), ('four', 4)])"
            ]
          },
          "execution_count": 111,
          "metadata": {},
          "output_type": "execute_result"
        }
      ],
      "source": [
        "d.items()"
      ]
    },
    {
      "cell_type": "code",
      "execution_count": null,
      "metadata": {
        "id": "QumT9IMJq5Vv",
        "outputId": "7aeb487f-8312-49d0-baa6-f6c902ffdfba"
      },
      "outputs": [
        {
          "name": "stdout",
          "output_type": "stream",
          "text": [
            "one 1\n",
            "two 2\n",
            "three 3\n",
            "four 4\n"
          ]
        }
      ],
      "source": [
        "for key, value in d.items():\n",
        "    print(key, value)"
      ]
    },
    {
      "cell_type": "code",
      "execution_count": null,
      "metadata": {
        "id": "S3IdL2cCq5Vw",
        "outputId": "e18b5cfb-6f94-447f-814f-f2d43d3637c0"
      },
      "outputs": [
        {
          "data": {
            "text/plain": [
              "dict_keys(['one', 'two', 'three', 'four'])"
            ]
          },
          "execution_count": 113,
          "metadata": {},
          "output_type": "execute_result"
        }
      ],
      "source": [
        "d.keys()"
      ]
    },
    {
      "cell_type": "code",
      "execution_count": null,
      "metadata": {
        "id": "1TYP8sr6q5Vw",
        "outputId": "65c572e6-d20b-48db-8743-3c76c89500bf"
      },
      "outputs": [
        {
          "data": {
            "text/plain": [
              "dict_values([1, 2, 3, 4])"
            ]
          },
          "execution_count": 114,
          "metadata": {},
          "output_type": "execute_result"
        }
      ],
      "source": [
        "d.values()"
      ]
    },
    {
      "cell_type": "code",
      "execution_count": null,
      "metadata": {
        "id": "sCyRN09Zq5Vw",
        "outputId": "613939e7-03b7-409d-d4bd-d2b6ee805708"
      },
      "outputs": [
        {
          "data": {
            "text/plain": [
              "2"
            ]
          },
          "execution_count": 115,
          "metadata": {},
          "output_type": "execute_result"
        }
      ],
      "source": [
        "d.get(\"two\")"
      ]
    },
    {
      "cell_type": "code",
      "execution_count": null,
      "metadata": {
        "id": "2_BOtm0oq5Vw",
        "outputId": "3cb1ae8f-ef03-4fe7-fd36-0b5c30566efe"
      },
      "outputs": [
        {
          "data": {
            "text/plain": [
              "False"
            ]
          },
          "execution_count": 116,
          "metadata": {},
          "output_type": "execute_result"
        }
      ],
      "source": [
        "\"zero\" in d"
      ]
    },
    {
      "cell_type": "code",
      "execution_count": null,
      "metadata": {
        "id": "PipPNFBkq5Vw",
        "outputId": "98fbfce6-ee14-4128-f82f-8c7b2043b6eb"
      },
      "outputs": [
        {
          "data": {
            "text/plain": [
              "{'one': 1, 'two': 2, 'three': 3, 'four': 4, 'zero': 0}"
            ]
          },
          "execution_count": 117,
          "metadata": {},
          "output_type": "execute_result"
        }
      ],
      "source": [
        "d[\"zero\"] = 0\n",
        "d"
      ]
    },
    {
      "cell_type": "code",
      "execution_count": null,
      "metadata": {
        "id": "fzYHROdxq5Vw",
        "outputId": "38f1f3dd-9a42-42c8-f0a7-8c1c07f7f940"
      },
      "outputs": [
        {
          "data": {
            "text/plain": [
              "True"
            ]
          },
          "execution_count": 118,
          "metadata": {},
          "output_type": "execute_result"
        }
      ],
      "source": [
        "\"zero\" in d"
      ]
    },
    {
      "cell_type": "code",
      "execution_count": null,
      "metadata": {
        "id": "A_QCT3Cqq5Vx",
        "outputId": "3099cf47-47c0-4392-ce7e-0d347a05c7e2"
      },
      "outputs": [
        {
          "data": {
            "text/plain": [
              "{'one': 1, 'two': 2, 'three': 3, 'four': 4, 'zero': 0, 'five': 5, 'six': 6}"
            ]
          },
          "execution_count": 119,
          "metadata": {},
          "output_type": "execute_result"
        }
      ],
      "source": [
        "d.update({\"five\": 5, \"six\": 6})\n",
        "d"
      ]
    },
    {
      "cell_type": "code",
      "execution_count": null,
      "metadata": {
        "id": "cEx_o8dOq5Vx",
        "outputId": "bd8c99b9-ec41-40e7-e1ed-d18326734855"
      },
      "outputs": [
        {
          "data": {
            "text/plain": [
              "{'one': 1, 'two': 2, 'three': 3, 'four': 4, 'zero': 0, 'five': 5}"
            ]
          },
          "execution_count": 120,
          "metadata": {},
          "output_type": "execute_result"
        }
      ],
      "source": [
        "d.pop(\"six\")\n",
        "d"
      ]
    },
    {
      "cell_type": "code",
      "execution_count": null,
      "metadata": {
        "id": "3kcLdqk8q5Vx",
        "outputId": "69a9b2c3-76a3-4e3f-f82a-5f85006a3d5e"
      },
      "outputs": [
        {
          "data": {
            "text/plain": [
              "{'one': 1, 'two': 2, 'three': 3, 'four': 4, 'zero': 0}"
            ]
          },
          "execution_count": 121,
          "metadata": {},
          "output_type": "execute_result"
        }
      ],
      "source": [
        "del d[\"five\"]\n",
        "d"
      ]
    },
    {
      "cell_type": "code",
      "execution_count": null,
      "metadata": {
        "id": "dV0efi1Oq5Vx",
        "outputId": "bfb544aa-ec69-4427-944b-31412fbb88d9"
      },
      "outputs": [
        {
          "data": {
            "text/plain": [
              "{}"
            ]
          },
          "execution_count": 122,
          "metadata": {},
          "output_type": "execute_result"
        }
      ],
      "source": [
        "d.clear()\n",
        "d"
      ]
    },
    {
      "cell_type": "markdown",
      "metadata": {
        "id": "O8Bp9jhgq5Vx"
      },
      "source": [
        "# Converting Data Types\n",
        "and using the constructors to create data types."
      ]
    },
    {
      "cell_type": "code",
      "execution_count": null,
      "metadata": {
        "id": "xwOpViQEq5Vx",
        "outputId": "6a0f88a2-b4f6-4e80-e168-759626a32871"
      },
      "outputs": [
        {
          "data": {
            "text/plain": [
              "1"
            ]
          },
          "execution_count": 123,
          "metadata": {},
          "output_type": "execute_result"
        }
      ],
      "source": [
        "# Converting float to integer\n",
        "int(1.1)"
      ]
    },
    {
      "cell_type": "code",
      "execution_count": null,
      "metadata": {
        "id": "e0EwgyCdq5Vy",
        "outputId": "a36f65af-42b2-4a02-b1eb-40425eabe6f3"
      },
      "outputs": [
        {
          "data": {
            "text/plain": [
              "1.0"
            ]
          },
          "execution_count": 124,
          "metadata": {},
          "output_type": "execute_result"
        }
      ],
      "source": [
        "# converting integer to float\n",
        "float(1)"
      ]
    },
    {
      "cell_type": "code",
      "execution_count": null,
      "metadata": {
        "id": "c5Mmekz_q5Vy",
        "outputId": "09211e35-64ba-4e38-be95-4bd0632c0191"
      },
      "outputs": [
        {
          "data": {
            "text/plain": [
              "'0x1'"
            ]
          },
          "execution_count": 125,
          "metadata": {},
          "output_type": "execute_result"
        }
      ],
      "source": [
        "# converting integer to hex number\n",
        "hex(1)"
      ]
    },
    {
      "cell_type": "code",
      "execution_count": null,
      "metadata": {
        "id": "vsjy7ni9q5Vy",
        "outputId": "6a766acb-0339-4668-a16b-7b7748dc3f1c"
      },
      "outputs": [
        {
          "data": {
            "text/plain": [
              "'1.0'"
            ]
          },
          "execution_count": 126,
          "metadata": {},
          "output_type": "execute_result"
        }
      ],
      "source": [
        "# converting float to string\n",
        "str(1.0)"
      ]
    },
    {
      "cell_type": "code",
      "execution_count": null,
      "metadata": {
        "id": "xHMhiVnSq5Vz",
        "outputId": "d8cbbccd-000d-422b-c24e-d5defe6b469d"
      },
      "outputs": [
        {
          "data": {
            "text/plain": [
              "'1'"
            ]
          },
          "execution_count": 127,
          "metadata": {},
          "output_type": "execute_result"
        }
      ],
      "source": [
        "# converting int to string\n",
        "str(1)"
      ]
    },
    {
      "cell_type": "code",
      "execution_count": null,
      "metadata": {
        "id": "FKbklGVeq5Vz",
        "outputId": "704f2e17-2608-4441-d32c-91c677f73da5"
      },
      "outputs": [
        {
          "data": {
            "text/plain": [
              "('a',)"
            ]
          },
          "execution_count": 128,
          "metadata": {},
          "output_type": "execute_result"
        }
      ],
      "source": [
        "# creating a tuple using a string\n",
        "tuple('a')"
      ]
    },
    {
      "cell_type": "code",
      "execution_count": null,
      "metadata": {
        "id": "NvTOUZ6Kq5Vz",
        "outputId": "def1ffec-db33-488d-fc20-892849c40423"
      },
      "outputs": [
        {
          "data": {
            "text/plain": [
              "{'a'}"
            ]
          },
          "execution_count": 129,
          "metadata": {},
          "output_type": "execute_result"
        }
      ],
      "source": [
        "# creating a set using a string\n",
        "set('a')"
      ]
    },
    {
      "cell_type": "code",
      "execution_count": null,
      "metadata": {
        "id": "YtaaCb_iq5Vz",
        "outputId": "25021b0f-92fe-4f42-b88e-cc81debe5965"
      },
      "outputs": [
        {
          "data": {
            "text/plain": [
              "['a']"
            ]
          },
          "execution_count": 130,
          "metadata": {},
          "output_type": "execute_result"
        }
      ],
      "source": [
        "# creating a list using a string\n",
        "list('a')"
      ]
    },
    {
      "cell_type": "code",
      "execution_count": null,
      "metadata": {
        "id": "Lsq8ZiJ2q5V0",
        "outputId": "c9d5ea29-84e7-4028-8cf1-bbd2cb00ee4a"
      },
      "outputs": [
        {
          "data": {
            "text/plain": [
              "{'one': 1}"
            ]
          },
          "execution_count": 131,
          "metadata": {},
          "output_type": "execute_result"
        }
      ],
      "source": [
        "# creating a dictionary using a mapping\n",
        "dict([('one', 1)])"
      ]
    },
    {
      "cell_type": "code",
      "execution_count": null,
      "metadata": {
        "id": "nlQWbE31q5V0",
        "outputId": "ac53bc33-36b7-470c-ace1-ae79e342f760"
      },
      "outputs": [
        {
          "data": {
            "text/plain": [
              "{'one': 1}"
            ]
          },
          "execution_count": 132,
          "metadata": {},
          "output_type": "execute_result"
        }
      ],
      "source": [
        "# creating a dictionary using keyword arguments\n",
        "dict(one=1)"
      ]
    },
    {
      "cell_type": "markdown",
      "metadata": {
        "id": "mQIkqv8Hq5V0"
      },
      "source": [
        "# Functions vs Methods\n",
        "* Functions and methods are defined using the `def` keyword.\n",
        "* \"It must be followed by the function name and the parenthesized list of parameters\".\n",
        "* Use `lower_case_with_underscores` for function and method names.\n",
        "* The function statements are indented.\n",
        "* Docstring (Documentation string) should be the first statement after the function definition.\n",
        "\n",
        "## Functions\n",
        "* Object indepdendent\n",
        "* Piece of code\n",
        "* Build-in functions https://docs.python.org/3/library/functions.html\n",
        "  * `dict()`\n",
        "  * `float()`\n",
        "  * `format()`\n",
        "  * `int()`\n",
        "  * `iter()`\n",
        "  * `len()`\n",
        "  * `list()`\n",
        "  * `max()`\n",
        "  * `min()`\n",
        "  * `next()`\n",
        "  * `open()`\n",
        "  * `print()`\n",
        "  * `range()`\n",
        "  * `round()`\n",
        "  * `set()`\n",
        "  * `sorted()`\n",
        "  * `str()`\n",
        "  * `sum()`\n",
        "  * `tuple()`\n",
        "  * `type()`\n",
        "  * `zip()`\n",
        "  * ...\n",
        "  \n",
        "### Defining Functions\n",
        "* \"The keyword `def` introduces a function definition. It must be followed by the function name and the parenthesized list of formal parameters. The statements that form the body of the function start at the next line, and must be indented.\"\n",
        "* \"The first statement of the function body can optionally be a string literal; this string literal is the function’s documentation string, or *docstring*.\"\n",
        "* \"A function definition defines a user-defined function object\"\n",
        "* \"A function definition is an executable statement\"\n",
        "* \"Its execution binds the function name in the current local namespace to a function object\"\n",
        "* \"The function definition does not execute the function body; this gets executed only when the function is called\"\n",
        "\n",
        "https://docs.python.org/3/tutorial/controlflow.html#defining-functions\n",
        "\n",
        "https://docs.python.org/3/reference/compound_stmts.html#function"
      ]
    },
    {
      "cell_type": "code",
      "execution_count": null,
      "metadata": {
        "id": "DCZ4QbSHq5V1"
      },
      "outputs": [],
      "source": [
        "# define a function\n",
        "def a_function_that_does_nothing():\n",
        "    pass\n",
        "\n",
        "# call the function\n",
        "a_function_that_does_nothing()"
      ]
    },
    {
      "cell_type": "code",
      "execution_count": null,
      "metadata": {
        "id": "j1SLLh2Tq5V1",
        "outputId": "2c62d9c5-dc75-41f5-dbe4-09f3993d6818"
      },
      "outputs": [
        {
          "data": {
            "text/plain": [
              "8"
            ]
          },
          "execution_count": 134,
          "metadata": {},
          "output_type": "execute_result"
        }
      ],
      "source": [
        "# simple function that returns the sum of the two arguments\n",
        "def sum_numbers(a, b):\n",
        "    return a+b\n",
        "\n",
        "sum_numbers(3, 5)"
      ]
    },
    {
      "cell_type": "markdown",
      "metadata": {
        "id": "prjyXWMAq5V1"
      },
      "source": [
        "### Arguments vs Parameters\n",
        "* **Parameters:** the names of variables in the function definition\n",
        "* **Arguments:** \"the values actually passed to a function when calling it\"\n",
        "\n",
        "`def f(x, y, z=0):\n",
        "    pass`\n",
        "\n",
        "*x*, *y*, and *z* are the parameters of `f`.\n",
        "\n",
        "`f(3, 2, 1)`\n",
        "\n",
        "the values `3`, `2`, and `1` are the arguments passed to the function `f`.\n",
        "\n",
        "https://docs.python.org/3/faq/programming.html#what-is-the-difference-between-arguments-and-parameters\n",
        "\n",
        "### Function Parameters\n",
        "* \"A named entity in a function (or method) definition that specifies an argument (or in some cases, arguments) that the function can accept\"\n",
        "* Kinds of parameter:\n",
        "  * **positional-or-keyword:** \"specifies an argument that can be passed either positionally or as a keyword argument. This is the default kind of parameter, for example foo and bar in the following: `def funct(foo, bar=None): ...`\"\n",
        "  * **positional-only:** \"specifies an argument that can be supplied only by position. Python has no syntax for defining positional-only parameters. However, some built-in functions have positional-only parameters (e.g. `abs()`).\"\n",
        "  * **keyword-only:** \"specifies an argument that can be supplied only by keyword. Keyword-only parameters can be defined by including a single var-positional parameter or bare * in the parameter list of the function definition before them, for example kw_only1 and kw_only2 in the following: `def func(arg, *, kw_only1, kw_only2): ...`\"\n",
        "  * **var-positional:** \"specifies that an arbitrary sequence of positional arguments can be provided (in addition to any positional arguments already accepted by other parameters). Such a parameter can be defined by prepending the parameter name with `*`, for example args in the following: `def func(*args, **kwargs): ...`\"\n",
        "  * **var-keyword:** \"specifies that arbitrarily many keyword arguments can be provided (in addition to any keyword arguments already accepted by other parameters). Such a parameter can be defined by prepending the parameter name with `**`, for example kwargs in the example above.\"\n",
        "\n",
        "### Default Parameter Values\n",
        "* \"When one or more parameters have the form `parameter = expression`, the function is said to have 'default parameter values'\"\n",
        "* \"For a parameter with a default value, the corresponding argument may be omitted from a call, in which case the parameter’s default value is substituted\"\n",
        "* \"If a parameter has a default value, all following parameters up until the '`*`' must also have a default value — this is a syntactic restriction that is not expressed by the grammar.\"\n",
        "* \"**Default parameter values are evaluated from left to right when the function definition is executed**\"\n",
        "* \"The expression is evaluated once, when the function is defined, and that the same “pre-computed” value is used for each call\" (see also https://docs.python.org/3/faq/programming.html#why-are-default-values-shared-between-objects)\n",
        "* \"When a default parameter is a mutable object, such as a list or a dictionary: if the function modifies the object (e.g. by appending an item to a list), the default value is in effect modified\"\n",
        "\n",
        "\n",
        "https://docs.python.org/3/glossary.html#term-parameter\n",
        "\n",
        "https://docs.python.org/3/tutorial/controlflow.html#more-on-defining-functions\n",
        "\n",
        "https://docs.python.org/3/reference/compound_stmts.html#function"
      ]
    },
    {
      "cell_type": "code",
      "execution_count": null,
      "metadata": {
        "id": "MbSLw_69q5V1",
        "outputId": "20606438-17ec-48b7-901e-585b18284e0e"
      },
      "outputs": [
        {
          "data": {
            "text/plain": [
              "9"
            ]
          },
          "execution_count": 135,
          "metadata": {},
          "output_type": "execute_result"
        }
      ],
      "source": [
        "def square_number(x):\n",
        "    \"\"\"This function returns the input value multiplied with itself\"\"\"\n",
        "    return x*x\n",
        "\n",
        "square_number(3)"
      ]
    },
    {
      "cell_type": "code",
      "execution_count": null,
      "metadata": {
        "id": "m58Tb1yiq5V1",
        "outputId": "82fc19a2-3c69-4522-aedc-7ca5ac71177e"
      },
      "outputs": [
        {
          "data": {
            "text/plain": [
              "19"
            ]
          },
          "execution_count": 136,
          "metadata": {},
          "output_type": "execute_result"
        }
      ],
      "source": [
        "def square_number_and_add_value(x, a=10):\n",
        "    \"\"\"\n",
        "    This function squares the input value x and then adds\n",
        "    a value a to it (a defaults to 10).\n",
        "    \"\"\"\n",
        "    return (x*x) + a\n",
        "\n",
        "square_number_and_add_value(3)"
      ]
    },
    {
      "cell_type": "code",
      "execution_count": null,
      "metadata": {
        "id": "O099Vk4Wq5V1",
        "outputId": "2578998c-bea9-4037-8b0c-edf45b4f5b46"
      },
      "outputs": [
        {
          "data": {
            "text/plain": [
              "9"
            ]
          },
          "execution_count": 137,
          "metadata": {},
          "output_type": "execute_result"
        }
      ],
      "source": [
        "square_number_and_add_value(3, 0)"
      ]
    },
    {
      "cell_type": "markdown",
      "metadata": {
        "id": "d0FfApLmq5V2"
      },
      "source": [
        "###  Lambda Expressions\n",
        "\"Small anonymous functions can be created with the ```lambda``` keyword. This function returns the sum of its two arguments: ```lambda a, b: a+b```. ```lambda``` functions can be used wherever function objects are required. They are syntactically restricted to a single expression. Semantically, they are just syntactic sugar for a normal function definition. Like nested function definitions, ```lambda``` functions can reference variables from the containing scope.\"\n",
        "\n",
        "https://docs.python.org/3/tutorial/controlflow.html?highlight=lambda#lambda-expressions"
      ]
    },
    {
      "cell_type": "code",
      "execution_count": null,
      "metadata": {
        "id": "JqiWQ6hPq5V2",
        "outputId": "fa1a9b31-ca1f-49de-8efe-3a8fd64de1a1"
      },
      "outputs": [
        {
          "name": "stdout",
          "output_type": "stream",
          "text": [
            "42\n",
            "43\n"
          ]
        }
      ],
      "source": [
        "# use a lambda expression to return a function\n",
        "# example from https://docs.python.org/3/tutorial/controlflow.html?highlight=lambda#lambda-expressions\n",
        "def make_incrementor(n):\n",
        "    return lambda x: x + n\n",
        "\n",
        "f = make_incrementor(42)\n",
        "\n",
        "print(f(0))\n",
        "\n",
        "print(f(1))"
      ]
    },
    {
      "cell_type": "code",
      "execution_count": null,
      "metadata": {
        "id": "0daP1bH9q5V2",
        "outputId": "45a1bfc6-3ecd-4246-9341-1e97b8acb146"
      },
      "outputs": [
        {
          "data": {
            "text/plain": [
              "[(4, 'four'), (1, 'one'), (3, 'three'), (2, 'two')]"
            ]
          },
          "execution_count": 139,
          "metadata": {},
          "output_type": "execute_result"
        }
      ],
      "source": [
        "# pass a small function as an argument\n",
        "# example from https://docs.python.org/3/tutorial/controlflow.html?highlight=lambda#lambda-expressions\n",
        "pairs = [(1, 'one'), (2, 'two'), (3, 'three'), (4, 'four')]\n",
        "pairs.sort(key=lambda pair: pair[1])\n",
        "pairs"
      ]
    },
    {
      "cell_type": "code",
      "execution_count": null,
      "metadata": {
        "id": "i6I6tZmAq5V2",
        "outputId": "5b6fecfe-c265-4468-b980-ee90aec064f5"
      },
      "outputs": [
        {
          "name": "stdout",
          "output_type": "stream",
          "text": [
            "15\n",
            "11\n"
          ]
        }
      ],
      "source": [
        "# define anonymous functions\n",
        "multiply = lambda x, y: x * y\n",
        "add = lambda x, y: x + y\n",
        "\n",
        "print(multiply(5, 3))\n",
        "print(add(4, 7))"
      ]
    },
    {
      "cell_type": "code",
      "execution_count": null,
      "metadata": {
        "id": "30xE095Bq5V2",
        "outputId": "500a3196-ac15-45eb-c7e7-75c3608068bb"
      },
      "outputs": [
        {
          "data": {
            "text/plain": [
              "76"
            ]
          },
          "execution_count": 141,
          "metadata": {},
          "output_type": "execute_result"
        }
      ],
      "source": [
        "# lambda function with *args\n",
        "lambda_args = lambda *args: sum(args)\n",
        "lambda_args(10, 21, 45)"
      ]
    },
    {
      "cell_type": "code",
      "execution_count": null,
      "metadata": {
        "id": "bUGc6o2tq5V2",
        "outputId": "dd6f4fd3-d316-4fd7-99de-05d11f22ed51"
      },
      "outputs": [
        {
          "data": {
            "text/plain": [
              "[3, 11, 25]"
            ]
          },
          "execution_count": 142,
          "metadata": {},
          "output_type": "execute_result"
        }
      ],
      "source": [
        "# sum tuples of arbitraray length\n",
        "[lambda_args(*x_tuple) for x_tuple in [(1, 2), (1, 4, 6), (3, 6, 10, 6)]]"
      ]
    },
    {
      "cell_type": "code",
      "execution_count": null,
      "metadata": {
        "id": "ChwyNOKJq5V3",
        "outputId": "4315ea15-6b7e-46b2-aa41-0ce6a9c8ada9"
      },
      "outputs": [
        {
          "data": {
            "text/plain": [
              "[4, 5, 6, 7, -8]"
            ]
          },
          "execution_count": 143,
          "metadata": {},
          "output_type": "execute_result"
        }
      ],
      "source": [
        "# Make a list comprehension to increase the values in alist by 2\n",
        "alist = [2, 3, 4, 5, -10]\n",
        "add = lambda x: x + 2\n",
        "\n",
        "[add(a) for a in alist]"
      ]
    },
    {
      "cell_type": "code",
      "execution_count": null,
      "metadata": {
        "id": "uuBniK7-q5V3",
        "outputId": "5ceaf139-9660-429b-a5c3-60d155e2123b"
      },
      "outputs": [
        {
          "data": {
            "text/plain": [
              "3"
            ]
          },
          "execution_count": 205,
          "metadata": {},
          "output_type": "execute_result"
        }
      ],
      "source": [
        "numeros=[2,4,6]\n",
        "pares=lambda x:not(x%2)\n",
        "\n",
        "sum([pares(a) for a in numeros])"
      ]
    },
    {
      "cell_type": "code",
      "execution_count": null,
      "metadata": {
        "id": "Tn-bch2Yq5V3",
        "outputId": "f8411916-d7f3-45e1-d2c9-967fdb00d971"
      },
      "outputs": [
        {
          "data": {
            "text/plain": [
              "True"
            ]
          },
          "execution_count": 201,
          "metadata": {},
          "output_type": "execute_result"
        }
      ],
      "source": [
        "not(4%2)"
      ]
    },
    {
      "cell_type": "markdown",
      "metadata": {
        "id": "IOkPkv1Eq5V4"
      },
      "source": [
        "## Methods\n",
        "* Object dependent (linked to an object)\n",
        "* \"A function that 'belongs' to an object\" (https://docs.python.org/3/tutorial/controlflow.html#defining-functions)\n",
        "* \"Always use self as the name for the first method argument\" (https://docs.python.org/3/tutorial/controlflow.html#intermezzo-coding-style)\n",
        "\n",
        "\n",
        "https://docs.python.org/3/tutorial/controlflow.html#defining-functions\n",
        "https://www.geeksforgeeks.org/difference-method-function-python/"
      ]
    },
    {
      "cell_type": "code",
      "execution_count": null,
      "metadata": {
        "id": "8pgNWsjDq5V4"
      },
      "outputs": [],
      "source": [
        "class MyClass:\n",
        "    \"\"\"\n",
        "    A simple example class\n",
        "    Example from https://docs.python.org/3/tutorial/classes.html\n",
        "    \"\"\"\n",
        "    i = 12345\n",
        "\n",
        "    def f(self):\n",
        "        return 'hello world'"
      ]
    },
    {
      "cell_type": "code",
      "execution_count": null,
      "metadata": {
        "id": "SPmYzsacq5V4",
        "outputId": "04784113-4682-4d7d-b5ed-0cc55b2a05c2"
      },
      "outputs": [
        {
          "data": {
            "text/plain": [
              "<__main__.MyClass at 0x19c66179648>"
            ]
          },
          "execution_count": 145,
          "metadata": {},
          "output_type": "execute_result"
        }
      ],
      "source": [
        "x = MyClass()\n",
        "x"
      ]
    },
    {
      "cell_type": "code",
      "execution_count": null,
      "metadata": {
        "id": "1PGhfuMQq5V4",
        "outputId": "8130cabc-94fe-4752-f649-cbb2c085e396"
      },
      "outputs": [
        {
          "data": {
            "text/plain": [
              "'hello world'"
            ]
          },
          "execution_count": 146,
          "metadata": {},
          "output_type": "execute_result"
        }
      ],
      "source": [
        "x.f()"
      ]
    },
    {
      "cell_type": "markdown",
      "metadata": {
        "id": "1a5Z3U6hq5V5"
      },
      "source": [
        "## Scopes and Namespaces\n",
        "\n",
        "\"A namespace is a mapping from names to objects. (...) The important thing to know about namespaces is that there is absolutely no relation between names in different namespaces; for instance, two different modules may both define a function ```maximize``` without confusion — users of the modules must prefix it with the module name.\"\n",
        "\n",
        "\"A scope is a textual region of a Python program where a namespace is directly accessible. “Directly accessible” here means that an unqualified reference to a name attempts to find the name in the namespace.\n",
        "\n",
        "Although scopes are determined statically, they are used dynamically. At any time during execution, there are at least three nested scopes whose namespaces are directly accessible:\n",
        "* the innermost scope, which is searched first, contains the local names\n",
        "* the scopes of any enclosing functions, which are searched starting with the nearest enclosing scope, contains non-local, but also non-global names\n",
        "* the next-to-last scope contains the current module’s global names\n",
        "* the outermost scope (searched last) is the namespace containing built-in names\"\n",
        "\n",
        "https://docs.python.org/3/tutorial/classes.html#python-scopes-and-namespaces\n",
        "\n",
        "\n",
        "\"Variables that are defined inside a function body have a local scope, and those defined outside have a global scope.  \n",
        "\n",
        "This means that local variables can be accessed only inside the function in which they are declared, whereas global variables can be accessed throughout the program body by all functions. When you call a function, the variables declared inside it are brought into scope.\"\n",
        "\n",
        "https://pylessons.com/Python-3-basics-tutorial-global-local-variables/\n",
        "\n",
        "\n",
        "### The ```global``` statement\n",
        "\n",
        "\"The ```global``` statement is a declaration which holds for the entire current code block. It means that the listed identifiers are to be interpreted as globals.\"\n",
        "\n",
        "https://docs.python.org/3/reference/simple_stmts.html#the-global-statement\n",
        "\n",
        "\n",
        "Examples from https://www.programiz.com/python-programming/namespace:\n"
      ]
    },
    {
      "cell_type": "code",
      "execution_count": null,
      "metadata": {
        "id": "9B1PFbZFq5V5",
        "outputId": "5381196a-f7c6-4965-acf8-e1519d7e18db"
      },
      "outputs": [
        {
          "name": "stdout",
          "output_type": "stream",
          "text": [
            "inner a = 30\n",
            "outer a = 20\n",
            "main a = 10\n"
          ]
        }
      ],
      "source": [
        "def outer_function():\n",
        "    a = 20\n",
        "    def inner_function():\n",
        "        a = 30\n",
        "        print('inner a =',a)\n",
        "\n",
        "    inner_function()\n",
        "    print('outer a =',a)\n",
        "\n",
        "a = 10\n",
        "outer_function()\n",
        "print('main a =',a)"
      ]
    },
    {
      "cell_type": "code",
      "execution_count": null,
      "metadata": {
        "id": "NL6qjo7Qq5V5",
        "outputId": "4cb07213-14ed-4e33-e11f-28b60c05c372"
      },
      "outputs": [
        {
          "name": "stdout",
          "output_type": "stream",
          "text": [
            "inner a = 30\n",
            "inner b = 30\n",
            "outer a = 30\n",
            "outer b = 30\n",
            "main a = 30\n",
            "main b = 10\n"
          ]
        }
      ],
      "source": [
        "def outer_function():\n",
        "    global a\n",
        "    b = 20\n",
        "    a = 20\n",
        "    def inner_function():\n",
        "        global a\n",
        "        nonlocal b\n",
        "        a = 30\n",
        "        b = 30\n",
        "        print('inner a =', a)\n",
        "        print('inner b =', b)\n",
        "\n",
        "    inner_function()\n",
        "    print('outer a =', a)\n",
        "    print('outer b =', b)\n",
        "\n",
        "a = 10\n",
        "b = 10\n",
        "outer_function()\n",
        "print('main a =', a)\n",
        "print('main b =', b)"
      ]
    },
    {
      "cell_type": "markdown",
      "metadata": {
        "id": "N3OpQVRbq5V6"
      },
      "source": [
        "# Classes and Objects\n",
        "* \"Objects are Python’s abstraction for data.\"\n",
        "* **\"All data in a Python program is represented by objects or by relations between objects.\"**\n",
        "* \"Every object has an identity, a type and a value.\"\n",
        "* \"An object’s identity never changes once it has been created; you may think of it as the object’s address in memory.\"\n",
        "* \"The `‘is’` operator compares the identity of two objects.\"\n",
        "* \"The `id()` function returns an integer representing its identity.\"\n",
        "\n",
        "https://docs.python.org/dev/reference/datamodel.html\n",
        "\n",
        "* Classes are defined using the `class` keyword.\n",
        "* Use the `CamelCase` syntax for class names\n",
        "* \"Creating a new class creates a new *type* of object, allowing new *instances* of that type to be made.\"\n",
        "\n",
        "https://docs.python.org/3/tutorial/classes.html"
      ]
    },
    {
      "cell_type": "code",
      "execution_count": null,
      "metadata": {
        "id": "O0Qq1Atwq5V6",
        "outputId": "15e311c4-e35c-45a9-8300-1636d276a374"
      },
      "outputs": [
        {
          "data": {
            "text/plain": [
              "__main__.Book"
            ]
          },
          "execution_count": 149,
          "metadata": {},
          "output_type": "execute_result"
        }
      ],
      "source": [
        "# user defined class\n",
        "class Book():\n",
        "    pass\n",
        "\n",
        "# create an instance of the Book class\n",
        "b = Book()\n",
        "# check the type of the instance\n",
        "type(b)"
      ]
    },
    {
      "cell_type": "code",
      "execution_count": null,
      "metadata": {
        "id": "-dkhq3a5q5V6",
        "outputId": "822a0c3c-9a49-4f2a-ffe1-59d1dfe091df"
      },
      "outputs": [
        {
          "data": {
            "text/plain": [
              "1771256143688"
            ]
          },
          "execution_count": 150,
          "metadata": {},
          "output_type": "execute_result"
        }
      ],
      "source": [
        "# get the identiy integer of the instance e\n",
        "id(b)"
      ]
    },
    {
      "cell_type": "code",
      "execution_count": null,
      "metadata": {
        "id": "gCphdIBRq5V7",
        "outputId": "a280f4a5-548b-468d-886e-9520f8d6e809"
      },
      "outputs": [
        {
          "data": {
            "text/plain": [
              "False"
            ]
          },
          "execution_count": 151,
          "metadata": {},
          "output_type": "execute_result"
        }
      ],
      "source": [
        "# create a second instance of the Book class\n",
        "c = Book()\n",
        "# check for the identity of the two instances\n",
        "b is c"
      ]
    },
    {
      "cell_type": "code",
      "execution_count": null,
      "metadata": {
        "id": "yBH1Vfuaq5V7",
        "outputId": "329a39ed-8acd-401c-dad2-bb4517f727d4"
      },
      "outputs": [
        {
          "data": {
            "text/plain": [
              "True"
            ]
          },
          "execution_count": 152,
          "metadata": {},
          "output_type": "execute_result"
        }
      ],
      "source": [
        "# create a new variable that points to the e instance\n",
        "b2 = b\n",
        "# check for the identity of the two variables b and b2\n",
        "b is b2"
      ]
    },
    {
      "cell_type": "markdown",
      "metadata": {
        "id": "otuiXN_bq5V7"
      },
      "source": [
        "## ```self ```\n",
        "\n",
        "\n",
        "\"Often, the first argument of a method is called ```self```. This is nothing more than a convention: the name ```self``` has absolutely no special meaning to Python. Note, however, that by not following the convention your code may be less readable to other Python programmers, and it is also conceivable that a *class browser* program might be written that relies upon such a convention.\"\n",
        "\n",
        "\n",
        "\"Methods may call other methods by using method attributes of the ```self``` argument:\n",
        "\n",
        "```python\n",
        "class Bag:\n",
        "    def __init__(self):\n",
        "        self.data = []\n",
        "\n",
        "    def add(self, x):\n",
        "        self.data.append(x)\n",
        "\n",
        "    def addtwice(self, x):\n",
        "        self.add(x)\n",
        "        self.add(x)\n",
        "```\n",
        "\"\n",
        "\n",
        "https://docs.python.org/3/tutorial/classes.html#random-remarks\n",
        "\n",
        "\n",
        "## __init()__\n",
        "\n",
        "\"The instantiation operation (“calling” a class object) creates an empty object. Many classes like to create objects with instances customized to a specific initial state. Therefore a class may define a special method named ```__init__()```, like this:\n",
        "\n",
        "```python\n",
        "def __init__(self):\n",
        "    self.data = []\n",
        "```\n",
        "\n",
        "When a class defines an ```__init__()``` method, class instantiation automatically invokes ```__init__()``` for the newly-created class instance. So in this example, a new, initialized instance can be obtained by:\n",
        "\n",
        "```python\n",
        "x = MyClass()\n",
        "```\n",
        "\n",
        "\n",
        "Of course, the ```__init__()``` method may have arguments for greater flexibility. In that case, arguments given to the class instantiation operator are passed on to ```__init__()```. For example,\n",
        "\n",
        "```python\n",
        ">>> class Complex:\n",
        "...     def __init__(self, realpart, imagpart):\n",
        "...         self.r = realpart\n",
        "...         self.i = imagpart\n",
        "...\n",
        ">>> x = Complex(3.0, -4.5)\n",
        ">>> x.r, x.i\n",
        "(3.0, -4.5)\n",
        "```\n",
        "\n",
        "Methods may reference global names in the same way as ordinary functions. The global scope associated with a method is the module containing its definition. (A class is never used as a global scope.) While one rarely encounters a good reason for using global data in a method, there are many legitimate uses of the global scope: for one thing, functions and modules imported into the global scope can be used by methods, as well as functions and classes defined in it. Usually, the class containing the method is itself defined in this global scope, and in the next section we’ll find some good reasons why a method would want to reference its own class.\n",
        "\n",
        "Each value is an object, and therefore has a class (also called its type). It is stored as ```object.__class__```.\"\n",
        "\n",
        "https://docs.python.org/3/tutorial/classes.html#class-objects\n",
        "\n",
        "## Inheritance\n",
        "\n",
        "\n",
        "\"Of course, a language feature would not be worthy of the name “class” without supporting inheritance. The syntax for a derived class definition looks like this:\n",
        "\n",
        "```python\n",
        "class DerivedClassName(BaseClassName):\n",
        "    <statement-1>\n",
        "    .\n",
        "    .\n",
        "    .\n",
        "    <statement-N>\n",
        "```\n",
        "The name ```BaseClassName``` must be defined in a scope containing the derived class definition. In place of a base class name, other arbitrary expressions are also allowed. This can be useful, for example, when the base class is defined in another module:\n",
        "\n",
        "```python\n",
        "class DerivedClassName(modname.BaseClassName):\n",
        "```\n",
        "\n",
        "Execution of a derived class definition proceeds the same as for a base class. When the class object is constructed, the base class is remembered. This is used for resolving attribute references: if a requested attribute is not found in the class, the search proceeds to look in the base class. This rule is applied recursively if the base class itself is derived from some other class.\n",
        "\n",
        "There’s nothing special about instantiation of derived classes: ```DerivedClassName()``` creates a new instance of the class. Method references are resolved as follows: the corresponding class attribute is searched, descending down the chain of base classes if necessary, and the method reference is valid if this yields a function object.\n",
        "\n",
        "Derived classes may override methods of their base classes. Because methods have no special privileges when calling other methods of the same object, a method of a base class that calls another method defined in the same base class may end up calling a method of a derived class that overrides it. (For C++ programmers: all methods in Python are effectively ```virtual```.)\n",
        "\n",
        "An overriding method in a derived class may in fact want to extend rather than simply replace the base class method of the same name. There is a simple way to call the base class method directly: just call ```BaseClassName.methodname(self, arguments)```. This is occasionally useful to clients as well. (Note that this only works if the base class is accessible as ```BaseClassName``` in the global scope.)\n",
        "\n",
        "Python has two built-in functions that work with inheritance:\n",
        "* Use ```isinstance()``` to check an instance’s type: ```isinstance(obj, int)``` will be ```True``` only if ```obj.__class__``` is ```int``` or some class derived from ```int```.\n",
        "* Use ```issubclass()``` to check class inheritance: ```issubclass(bool, int)``` is ```True``` since bool is a subclass of ```int```. However, ```issubclass(float, int)``` is ```False``` since ```float``` is not a subclass of ```int```.\"\n",
        "\n",
        "https://docs.python.org/3/tutorial/classes.html#inheritance"
      ]
    },
    {
      "cell_type": "code",
      "execution_count": null,
      "metadata": {
        "id": "P93ZYp29q5V8",
        "outputId": "c9b9c8b0-738b-4841-faf4-89eaab37766f"
      },
      "outputs": [
        {
          "name": "stdout",
          "output_type": "stream",
          "text": [
            "John Doe\n"
          ]
        }
      ],
      "source": [
        "# example from https://www.w3schools.com/python/python_inheritance.asp\n",
        "class Person:\n",
        "    def __init__(self, fname, lname):\n",
        "        self.firstname = fname\n",
        "        self.lastname = lname\n",
        "\n",
        "    def printname(self):\n",
        "        print(self.firstname, self.lastname)\n",
        "\n",
        "x = Person(\"John\", \"Doe\")\n",
        "x.printname()"
      ]
    },
    {
      "cell_type": "code",
      "execution_count": null,
      "metadata": {
        "id": "QT_bWtimq5V8",
        "outputId": "c743b652-2e01-4bd3-aa2a-f362611fa790"
      },
      "outputs": [
        {
          "name": "stdout",
          "output_type": "stream",
          "text": [
            "Mike Olsen\n"
          ]
        }
      ],
      "source": [
        "class Student(Person):\n",
        "    pass\n",
        "\n",
        "x = Student(\"Mike\", \"Olsen\")\n",
        "x.printname()"
      ]
    },
    {
      "cell_type": "markdown",
      "metadata": {
        "id": "xan-eeH7q5V8"
      },
      "source": [
        "# Exercises\n",
        "\n",
        "## Data Types\n",
        "Questions from https://www.w3resource.com/python-exercises/python-data-types.php.\n",
        "* Write a Python program to test whether an input is an integer.\n",
        "* Write a Python program to sort (ascending and descending) a dictionary by value.\n",
        "* Write a Python program to check if a given key already exists in a dictionary.\n",
        "* Write a Python program to remove duplicates from a list.\n",
        "* Write a Python program to check a list is empty or not.\n",
        "* Write a Python function that takes two lists and returns True if they have at least one common member."
      ]
    },
    {
      "cell_type": "code",
      "execution_count": null,
      "metadata": {
        "id": "hciE9XI9q5V8",
        "outputId": "8cccae79-7f61-4b05-b1bb-96eac45008c9"
      },
      "outputs": [
        {
          "data": {
            "text/plain": [
              "True"
            ]
          },
          "execution_count": 155,
          "metadata": {},
          "output_type": "execute_result"
        }
      ],
      "source": [
        "# input is integer\n",
        "isinstance(3, int)"
      ]
    },
    {
      "cell_type": "code",
      "execution_count": null,
      "metadata": {
        "id": "fy161Bpmq5V9",
        "outputId": "8c0f028e-9bb8-4150-a3a5-6498870d7bc4"
      },
      "outputs": [
        {
          "data": {
            "text/plain": [
              "True"
            ]
          },
          "execution_count": 186,
          "metadata": {},
          "output_type": "execute_result"
        }
      ],
      "source": [
        "a = 3\n",
        "a == int(a)"
      ]
    },
    {
      "cell_type": "code",
      "execution_count": null,
      "metadata": {
        "id": "zLewC74Lq5V9",
        "outputId": "69138a55-06fb-4c8d-b628-6f4c41a475d5"
      },
      "outputs": [
        {
          "data": {
            "text/plain": [
              "False"
            ]
          },
          "execution_count": 189,
          "metadata": {},
          "output_type": "execute_result"
        }
      ],
      "source": [
        "type(3.0) == int"
      ]
    },
    {
      "cell_type": "code",
      "execution_count": null,
      "metadata": {
        "id": "6GJ3m08Zq5V9",
        "outputId": "100e21ba-b80c-4596-fe94-528b767536f2"
      },
      "outputs": [
        {
          "data": {
            "text/plain": [
              "[('two', 2), ('one', 1)]"
            ]
          },
          "execution_count": 190,
          "metadata": {},
          "output_type": "execute_result"
        }
      ],
      "source": [
        "# sort dict\n",
        "d = {'one': 1, 'two':2}\n",
        "sorted(d.items(), key=lambda x: x[1], reverse=True)"
      ]
    },
    {
      "cell_type": "code",
      "execution_count": null,
      "metadata": {
        "id": "JwmjX4THq5V9",
        "outputId": "289b5f6b-ce94-4366-918c-6ecae3ded0ff"
      },
      "outputs": [
        {
          "data": {
            "text/plain": [
              "True"
            ]
          },
          "execution_count": 192,
          "metadata": {},
          "output_type": "execute_result"
        }
      ],
      "source": [
        "# check key in dict\n",
        "'two' in d"
      ]
    },
    {
      "cell_type": "code",
      "execution_count": null,
      "metadata": {
        "id": "YhcloAflq5V9",
        "outputId": "c6c37766-fe77-4f74-faf7-5289ebf7ac63"
      },
      "outputs": [
        {
          "data": {
            "text/plain": [
              "{1, 2, 3}"
            ]
          },
          "execution_count": 160,
          "metadata": {},
          "output_type": "execute_result"
        }
      ],
      "source": [
        "# remove duplicates from list\n",
        "set([1, 2, 3, 1, 2, 3])"
      ]
    },
    {
      "cell_type": "code",
      "execution_count": null,
      "metadata": {
        "id": "Hm7n6yKfq5V9",
        "outputId": "040175a6-ffb6-47e1-c05a-4ed228ff8658"
      },
      "outputs": [
        {
          "name": "stdout",
          "output_type": "stream",
          "text": [
            "True\n",
            "False\n"
          ]
        }
      ],
      "source": [
        "# check empty list\n",
        "print(not [])\n",
        "\n",
        "print(not [1, 2])"
      ]
    },
    {
      "cell_type": "code",
      "execution_count": null,
      "metadata": {
        "id": "xzQU2cP5q5V-",
        "outputId": "c2670ecb-8f97-464a-acf8-c86d614c7a4b"
      },
      "outputs": [
        {
          "data": {
            "text/plain": [
              "True"
            ]
          },
          "execution_count": 162,
          "metadata": {},
          "output_type": "execute_result"
        }
      ],
      "source": [
        "not ''"
      ]
    },
    {
      "cell_type": "code",
      "execution_count": null,
      "metadata": {
        "id": "376P_gboq5V-",
        "outputId": "569c68f8-3ec5-4321-9930-e27282d916c4"
      },
      "outputs": [
        {
          "data": {
            "text/plain": [
              "True"
            ]
          },
          "execution_count": 163,
          "metadata": {},
          "output_type": "execute_result"
        }
      ],
      "source": [
        "len([]) == 0"
      ]
    },
    {
      "cell_type": "code",
      "execution_count": null,
      "metadata": {
        "id": "ok7GVej8q5V-",
        "outputId": "17001504-25ce-475c-e4e2-11e103947c53"
      },
      "outputs": [
        {
          "data": {
            "text/plain": [
              "True"
            ]
          },
          "execution_count": 164,
          "metadata": {},
          "output_type": "execute_result"
        }
      ],
      "source": [
        "# check common member in lists\n",
        "\n",
        "def check_common(a, b):\n",
        "    for i in a:\n",
        "        if i in b:\n",
        "            return True\n",
        "    return False\n",
        "\n",
        "\n",
        "a = [1, 2, 3]\n",
        "b = [3, 4, 5]\n",
        "\n",
        "check_common(a, b)\n"
      ]
    },
    {
      "cell_type": "code",
      "execution_count": null,
      "metadata": {
        "id": "gKk_a1Gqq5V-",
        "outputId": "1d69111b-e428-471c-8009-874cad6c06a0"
      },
      "outputs": [
        {
          "data": {
            "text/plain": [
              "{3}"
            ]
          },
          "execution_count": 194,
          "metadata": {},
          "output_type": "execute_result"
        }
      ],
      "source": [
        "a = set([1, 2, 3])\n",
        "b = set([3, 4, 5])\n",
        "\n",
        "a.intersection(b)"
      ]
    },
    {
      "cell_type": "markdown",
      "metadata": {
        "id": "EApvQZbrq5V_"
      },
      "source": [
        "## Functions\n",
        "Some questions from https://www.w3resource.com/python-exercises/python-functions-exercises.php.\n",
        "* Write a Python function to find the Max of three numbers.\n",
        "* Write a Python function to sum all the numbers in a list.\n",
        "* Write a Python program to reverse a string. Go to the editor. Sample String : \"1234abcd\". Expected Output : \"dcba4321\".\n",
        "* Write a Python function to calculate the factorial of a number (a non-negative integer). The function accepts the number as an argument.\n",
        "* Write a Python function to check whether a number is in a given range.\n",
        "* Define a `lambda` function to double a value.\n",
        "* Use the `lambda` function to double values in a list [10, 12, 14, 16]. Use list comprehension.\n",
        "* Define a function that returns `min()` and `max()` based on string input."
      ]
    },
    {
      "cell_type": "code",
      "execution_count": null,
      "metadata": {
        "id": "HnmSDHupq5V_",
        "outputId": "95411ef1-f9cf-43d5-9a37-6610f6e09d92"
      },
      "outputs": [
        {
          "data": {
            "text/plain": [
              "3"
            ]
          },
          "execution_count": 165,
          "metadata": {},
          "output_type": "execute_result"
        }
      ],
      "source": [
        "# max of 3 numbers\n",
        "def max_of_three(a, b, c):\n",
        "    return max([a, b, c])\n",
        "max_of_three(1, 2, 3)"
      ]
    },
    {
      "cell_type": "code",
      "execution_count": null,
      "metadata": {
        "id": "PTuvm4x9q5V_",
        "outputId": "6285cb91-ab39-4f21-8258-0ff482a94206"
      },
      "outputs": [
        {
          "data": {
            "text/plain": [
              "6"
            ]
          },
          "execution_count": 166,
          "metadata": {},
          "output_type": "execute_result"
        }
      ],
      "source": [
        "# sum of list\n",
        "def sum_of_list(a):\n",
        "    return sum(a)\n",
        "sum_of_list([1, 2, 3])"
      ]
    },
    {
      "cell_type": "code",
      "execution_count": null,
      "metadata": {
        "id": "GfUYoHVgq5V_",
        "outputId": "f7b93068-041c-4b3c-e15f-aa0d9fdc54df"
      },
      "outputs": [
        {
          "data": {
            "text/plain": [
              "'dcba4321'"
            ]
          },
          "execution_count": 167,
          "metadata": {},
          "output_type": "execute_result"
        }
      ],
      "source": [
        "# reverse string\n",
        "\"1234abcd\"[::-1]"
      ]
    },
    {
      "cell_type": "code",
      "execution_count": null,
      "metadata": {
        "id": "J1rZW2-Qq5V_",
        "outputId": "984e6e08-5499-4208-f6a0-c47563157024"
      },
      "outputs": [
        {
          "data": {
            "text/plain": [
              "'dcba'"
            ]
          },
          "execution_count": 168,
          "metadata": {},
          "output_type": "execute_result"
        }
      ],
      "source": [
        "def rev(s):\n",
        "    r = ''\n",
        "    for i in range(len(s), 0, -1):\n",
        "        r += s[i-1]\n",
        "        #r = r+s[i-1]\n",
        "    return r\n",
        "rev('abcd')"
      ]
    },
    {
      "cell_type": "code",
      "execution_count": null,
      "metadata": {
        "id": "C0wzMsUTq5V_",
        "outputId": "830bd6f3-48f3-49cc-a3ff-d1fecb474344"
      },
      "outputs": [
        {
          "data": {
            "text/plain": [
              "120"
            ]
          },
          "execution_count": 169,
          "metadata": {},
          "output_type": "execute_result"
        }
      ],
      "source": [
        "# factorial\n",
        "def fac(a):\n",
        "    if a > 0:\n",
        "        return a*fac(a-1)\n",
        "    else:\n",
        "        return 1\n",
        "fac(5)"
      ]
    },
    {
      "cell_type": "code",
      "execution_count": null,
      "metadata": {
        "id": "HkERI3RUq5WA",
        "outputId": "184a88d4-0bbb-4106-ba25-8caa5da384f7"
      },
      "outputs": [
        {
          "name": "stdout",
          "output_type": "stream",
          "text": [
            "3 in range\n"
          ]
        }
      ],
      "source": [
        "# number in range\n",
        "i = 3\n",
        "if i in range(0, 9):\n",
        "    print(\"{} in range\".format(i))"
      ]
    },
    {
      "cell_type": "code",
      "execution_count": null,
      "metadata": {
        "id": "EOyyDbIVq5WA",
        "outputId": "47cde04f-203c-4e40-a19c-a8fd7f0adde3"
      },
      "outputs": [
        {
          "data": {
            "text/plain": [
              "8"
            ]
          },
          "execution_count": 171,
          "metadata": {},
          "output_type": "execute_result"
        }
      ],
      "source": [
        "# lambda function to double a value\n",
        "double = lambda x: x*2\n",
        "double(4)"
      ]
    },
    {
      "cell_type": "code",
      "execution_count": null,
      "metadata": {
        "id": "Kc_wbeTVq5WA",
        "outputId": "e7531d66-58b1-47c3-b564-1c075f72b3c3"
      },
      "outputs": [
        {
          "data": {
            "text/plain": [
              "[2, 4, 6, 8]"
            ]
          },
          "execution_count": 172,
          "metadata": {},
          "output_type": "execute_result"
        }
      ],
      "source": [
        "# list comprehension to double values in a list\n",
        "[double(x) for x in [1, 2, 3, 4]]"
      ]
    },
    {
      "cell_type": "code",
      "execution_count": null,
      "metadata": {
        "id": "0UjJXPHrq5WA",
        "outputId": "c0403fc3-49ea-4160-bbbf-e0e6bc8ace41"
      },
      "outputs": [
        {
          "data": {
            "text/plain": [
              "3"
            ]
          },
          "execution_count": 173,
          "metadata": {},
          "output_type": "execute_result"
        }
      ],
      "source": [
        "# Define a function that returns min() and max() based on string input.\n",
        "def mm(i, f):\n",
        "    if f=='min':\n",
        "        return min(i)\n",
        "    elif f=='max':\n",
        "        return max(i)\n",
        "    print(\"function {} not found\".format(f))\n",
        "mm([1, 2, 3], 'max')"
      ]
    },
    {
      "cell_type": "markdown",
      "metadata": {
        "id": "b2zDARBJq5WA"
      },
      "source": [
        "## Classes\n",
        "Questions from https://www.w3resource.com/python-exercises/class-exercises/index.php.\n",
        "* Write a Python class to convert an integer to a roman numeral.\n",
        "* Write a Python class named Circle constructed by a radius and two methods which will compute the area and the perimeter of a circle."
      ]
    },
    {
      "cell_type": "code",
      "execution_count": null,
      "metadata": {
        "id": "Pxn9NJBdq5WA"
      },
      "outputs": [],
      "source": []
    },
    {
      "cell_type": "markdown",
      "metadata": {
        "id": "V2RnXiIoq5WB"
      },
      "source": [
        "# Exercise Solutions\n",
        "## Data Types"
      ]
    },
    {
      "cell_type": "code",
      "execution_count": null,
      "metadata": {
        "id": "3HUr-X7Mq5WB",
        "outputId": "21b900fc-4156-4a76-8d31-887c4d752953"
      },
      "outputs": [
        {
          "name": "stdout",
          "output_type": "stream",
          "text": [
            "valid integer : 15\n",
            "valid integer : 5\n",
            "invalid literal for int() with base 10: '5.65'\n"
          ]
        }
      ],
      "source": [
        "# Write a Python program to test whether an input is an integer.\n",
        "# https://www.w3resource.com/python-exercises/python-data-type-exercise-16.php\n",
        "def is_integer(n):\n",
        "    try:\n",
        "        n= int(n)\n",
        "        print(\"valid integer :\", n)\n",
        "    except ValueError as err:\n",
        "        print(err)\n",
        "is_integer(15)\n",
        "is_integer(5.65)\n",
        "is_integer('5.65')"
      ]
    },
    {
      "cell_type": "code",
      "execution_count": null,
      "metadata": {
        "id": "BvaTJMw1q5WB",
        "outputId": "e8f47654-1075-427f-d76b-5462928bf57b"
      },
      "outputs": [
        {
          "name": "stdout",
          "output_type": "stream",
          "text": [
            "Original dictionary :  {1: 2, 3: 4, 4: 3, 2: 1, 0: 0}\n",
            "Dictionary in ascending order by value :  [(0, 0), (1, 2), (2, 1), (3, 4), (4, 3)]\n",
            "Dictionary in descending order by value :  [(4, 3), (3, 4), (2, 1), (1, 2), (0, 0)]\n"
          ]
        }
      ],
      "source": [
        "# Write a Python program to sort (ascending and descending) a dictionary by value.\n",
        "# https://www.w3resource.com/python-exercises/python-data-type-exercise-17.php\n",
        "\n",
        "import operator\n",
        "d = {1: 2, 3: 4, 4: 3, 2: 1, 0: 0}\n",
        "print('Original dictionary : ',d)\n",
        "\n",
        "sorted_d = sorted(d.items(), key=operator.itemgetter(0))\n",
        "print('Dictionary in ascending order by value : ',sorted_d)\n",
        "\n",
        "sorted_d = sorted(d.items(), key=operator.itemgetter(0),reverse=True)\n",
        "print('Dictionary in descending order by value : ',sorted_d)"
      ]
    },
    {
      "cell_type": "code",
      "execution_count": null,
      "metadata": {
        "id": "p4K1mXQjq5WB",
        "outputId": "adce7e45-9f4a-401c-ce8d-4d7d239423be"
      },
      "outputs": [
        {
          "name": "stdout",
          "output_type": "stream",
          "text": [
            "Key is present in the dictionary\n",
            "Key is not present in the dictionary\n"
          ]
        }
      ],
      "source": [
        "# Write a Python program to check if a given key already exists in a dictionary.\n",
        "# https://www.w3resource.com/python-exercises/python-data-type-exercise-21.php\n",
        "\n",
        "d = {1: 10, 2: 20, 3: 30, 4: 40, 5: 50, 6: 60}\n",
        "def is_key_present(x):\n",
        "    if x in d:\n",
        "        print('Key is present in the dictionary')\n",
        "    else:\n",
        "        print('Key is not present in the dictionary')\n",
        "\n",
        "is_key_present(5)\n",
        "is_key_present(9)"
      ]
    },
    {
      "cell_type": "code",
      "execution_count": null,
      "metadata": {
        "id": "eiu4Js9rq5WB",
        "outputId": "c9f5b737-5775-4327-97a5-8fd510c37c40"
      },
      "outputs": [
        {
          "name": "stdout",
          "output_type": "stream",
          "text": [
            "{40, 10, 80, 50, 20, 60, 30}\n"
          ]
        }
      ],
      "source": [
        "# Write a Python program to remove duplicates from a list.\n",
        "# https://www.w3resource.com/python-exercises/python-data-type-exercise-23.php\n",
        "\n",
        "a = [10, 20, 30, 20, 10, 50, 60, 40, 80, 50, 40]\n",
        "\n",
        "dup_items = set()\n",
        "uniq_items = []\n",
        "for x in a:\n",
        "    if x not in dup_items:\n",
        "        uniq_items.append(x)\n",
        "        dup_items.add(x)\n",
        "\n",
        "print(dup_items)"
      ]
    },
    {
      "cell_type": "code",
      "execution_count": null,
      "metadata": {
        "id": "f0Ze0aZXq5WB",
        "outputId": "4e31e04e-d2c7-4fdd-a435-70fdbc4725ae"
      },
      "outputs": [
        {
          "name": "stdout",
          "output_type": "stream",
          "text": [
            "List is empty\n"
          ]
        }
      ],
      "source": [
        "# Write a Python program to check a list is empty or not.\n",
        "# https://www.w3resource.com/python-exercises/python-data-type-exercise-24.php\n",
        "\n",
        "l = []\n",
        "if not l:\n",
        "    print(\"List is empty\")"
      ]
    },
    {
      "cell_type": "code",
      "execution_count": null,
      "metadata": {
        "id": "aaunBizKq5WC",
        "outputId": "f7059711-2a5f-446a-fc69-55baebc8d18c"
      },
      "outputs": [
        {
          "name": "stdout",
          "output_type": "stream",
          "text": [
            "True\n",
            "None\n"
          ]
        }
      ],
      "source": [
        "# Write a Python function that takes two lists and returns True if they have at least one common member.\n",
        "# https://www.w3resource.com/python-exercises/python-data-type-exercise-31.php\n",
        "\n",
        "def common_data(list1, list2):\n",
        "    result = False\n",
        "    for x in list1:\n",
        "        for y in list2:\n",
        "            if x == y:\n",
        "                result = True\n",
        "                return result\n",
        "print(common_data([1,2,3,4,5], [5,6,7,8,9]))\n",
        "print(common_data([1,2,3,4,5], [6,7,8,9]))\n"
      ]
    },
    {
      "cell_type": "markdown",
      "metadata": {
        "id": "Q9KH-8Fiq5WC"
      },
      "source": [
        "## Functions"
      ]
    },
    {
      "cell_type": "code",
      "execution_count": null,
      "metadata": {
        "id": "TlAXMBGMq5WC",
        "outputId": "748f853a-754d-467a-f50f-0913cf938e25"
      },
      "outputs": [
        {
          "name": "stdout",
          "output_type": "stream",
          "text": [
            "6\n"
          ]
        }
      ],
      "source": [
        "# Write a Python function to find the Max of three numbers.\n",
        "# https://www.w3resource.com/python-exercises/python-functions-exercise-1.php\n",
        "\n",
        "def max_of_two( x, y ):\n",
        "    if x > y:\n",
        "        return x\n",
        "    return y\n",
        "def max_of_three( x, y, z ):\n",
        "    return max_of_two( x, max_of_two( y, z ) )\n",
        "print(max_of_three(3, 6, -5))"
      ]
    },
    {
      "cell_type": "code",
      "execution_count": null,
      "metadata": {
        "id": "vPsPg0Sbq5WC",
        "outputId": "cf85cac7-04a2-4b1e-80ea-e906be5baa7f"
      },
      "outputs": [
        {
          "name": "stdout",
          "output_type": "stream",
          "text": [
            "20\n"
          ]
        }
      ],
      "source": [
        "# Write a Python function to sum all the numbers in a list.\n",
        "# https://www.w3resource.com/python-exercises/python-functions-exercise-2.php\n",
        "def sum(numbers):\n",
        "    total = 0\n",
        "    for x in numbers:\n",
        "        total += x\n",
        "    return total\n",
        "print(sum((8, 2, 3, 0, 7)))"
      ]
    },
    {
      "cell_type": "code",
      "execution_count": null,
      "metadata": {
        "id": "HhVPL8j0q5WC",
        "outputId": "12352fe2-50fe-4a44-b92d-cfb1769d64bd"
      },
      "outputs": [
        {
          "name": "stdout",
          "output_type": "stream",
          "text": [
            "dcba4321\n"
          ]
        }
      ],
      "source": [
        "# Write a Python program to reverse a string. Go to the editor.\n",
        "# Sample String : \"1234abcd\". Expected Output : \"dcba4321\".\n",
        "# https://www.w3resource.com/python-exercises/python-functions-exercise-4.php\n",
        "\n",
        "def string_reverse(str1):\n",
        "\n",
        "    rstr1 = ''\n",
        "    index = len(str1)\n",
        "    while index > 0:\n",
        "        rstr1 += str1[ index - 1 ]\n",
        "        index = index - 1\n",
        "    return rstr1\n",
        "print(string_reverse('1234abcd'))"
      ]
    },
    {
      "cell_type": "code",
      "execution_count": null,
      "metadata": {
        "id": "kBZHaH0tq5WC",
        "outputId": "e90ad7a8-9ce8-4428-cf93-c2516b3b95b7"
      },
      "outputs": [
        {
          "ename": "KeyboardInterrupt",
          "evalue": "Interrupted by user",
          "output_type": "error",
          "traceback": [
            "\u001b[1;31m---------------------------------------------------------------------------\u001b[0m",
            "\u001b[1;31mKeyboardInterrupt\u001b[0m                         Traceback (most recent call last)",
            "\u001b[1;32m<ipython-input-183-4689a8cb3411>\u001b[0m in \u001b[0;36m<module>\u001b[1;34m\u001b[0m\n\u001b[0;32m      8\u001b[0m     \u001b[1;32melse\u001b[0m\u001b[1;33m:\u001b[0m\u001b[1;33m\u001b[0m\u001b[1;33m\u001b[0m\u001b[0m\n\u001b[0;32m      9\u001b[0m         \u001b[1;32mreturn\u001b[0m \u001b[0mn\u001b[0m \u001b[1;33m*\u001b[0m \u001b[0mfactorial\u001b[0m\u001b[1;33m(\u001b[0m\u001b[0mn\u001b[0m\u001b[1;33m-\u001b[0m\u001b[1;36m1\u001b[0m\u001b[1;33m)\u001b[0m\u001b[1;33m\u001b[0m\u001b[1;33m\u001b[0m\u001b[0m\n\u001b[1;32m---> 10\u001b[1;33m \u001b[0mn\u001b[0m\u001b[1;33m=\u001b[0m\u001b[0mint\u001b[0m\u001b[1;33m(\u001b[0m\u001b[0minput\u001b[0m\u001b[1;33m(\u001b[0m\u001b[1;34m\"Input a number to compute the factiorial : \"\u001b[0m\u001b[1;33m)\u001b[0m\u001b[1;33m)\u001b[0m\u001b[1;33m\u001b[0m\u001b[1;33m\u001b[0m\u001b[0m\n\u001b[0m\u001b[0;32m     11\u001b[0m \u001b[0mprint\u001b[0m\u001b[1;33m(\u001b[0m\u001b[0mfactorial\u001b[0m\u001b[1;33m(\u001b[0m\u001b[0mn\u001b[0m\u001b[1;33m)\u001b[0m\u001b[1;33m)\u001b[0m\u001b[1;33m\u001b[0m\u001b[1;33m\u001b[0m\u001b[0m\n",
            "\u001b[1;32m~\\Anaconda3\\envs\\MLenv2\\lib\\site-packages\\ipykernel\\kernelbase.py\u001b[0m in \u001b[0;36mraw_input\u001b[1;34m(self, prompt)\u001b[0m\n\u001b[0;32m    861\u001b[0m             \u001b[0mself\u001b[0m\u001b[1;33m.\u001b[0m\u001b[0m_parent_ident\u001b[0m\u001b[1;33m,\u001b[0m\u001b[1;33m\u001b[0m\u001b[1;33m\u001b[0m\u001b[0m\n\u001b[0;32m    862\u001b[0m             \u001b[0mself\u001b[0m\u001b[1;33m.\u001b[0m\u001b[0m_parent_header\u001b[0m\u001b[1;33m,\u001b[0m\u001b[1;33m\u001b[0m\u001b[1;33m\u001b[0m\u001b[0m\n\u001b[1;32m--> 863\u001b[1;33m             \u001b[0mpassword\u001b[0m\u001b[1;33m=\u001b[0m\u001b[1;32mFalse\u001b[0m\u001b[1;33m,\u001b[0m\u001b[1;33m\u001b[0m\u001b[1;33m\u001b[0m\u001b[0m\n\u001b[0m\u001b[0;32m    864\u001b[0m         )\n\u001b[0;32m    865\u001b[0m \u001b[1;33m\u001b[0m\u001b[0m\n",
            "\u001b[1;32m~\\Anaconda3\\envs\\MLenv2\\lib\\site-packages\\ipykernel\\kernelbase.py\u001b[0m in \u001b[0;36m_input_request\u001b[1;34m(self, prompt, ident, parent, password)\u001b[0m\n\u001b[0;32m    902\u001b[0m             \u001b[1;32mexcept\u001b[0m \u001b[0mKeyboardInterrupt\u001b[0m\u001b[1;33m:\u001b[0m\u001b[1;33m\u001b[0m\u001b[1;33m\u001b[0m\u001b[0m\n\u001b[0;32m    903\u001b[0m                 \u001b[1;31m# re-raise KeyboardInterrupt, to truncate traceback\u001b[0m\u001b[1;33m\u001b[0m\u001b[1;33m\u001b[0m\u001b[1;33m\u001b[0m\u001b[0m\n\u001b[1;32m--> 904\u001b[1;33m                 \u001b[1;32mraise\u001b[0m \u001b[0mKeyboardInterrupt\u001b[0m\u001b[1;33m(\u001b[0m\u001b[1;34m\"Interrupted by user\"\u001b[0m\u001b[1;33m)\u001b[0m \u001b[1;32mfrom\u001b[0m \u001b[1;32mNone\u001b[0m\u001b[1;33m\u001b[0m\u001b[1;33m\u001b[0m\u001b[0m\n\u001b[0m\u001b[0;32m    905\u001b[0m             \u001b[1;32mexcept\u001b[0m \u001b[0mException\u001b[0m \u001b[1;32mas\u001b[0m \u001b[0me\u001b[0m\u001b[1;33m:\u001b[0m\u001b[1;33m\u001b[0m\u001b[1;33m\u001b[0m\u001b[0m\n\u001b[0;32m    906\u001b[0m                 \u001b[0mself\u001b[0m\u001b[1;33m.\u001b[0m\u001b[0mlog\u001b[0m\u001b[1;33m.\u001b[0m\u001b[0mwarning\u001b[0m\u001b[1;33m(\u001b[0m\u001b[1;34m\"Invalid Message:\"\u001b[0m\u001b[1;33m,\u001b[0m \u001b[0mexc_info\u001b[0m\u001b[1;33m=\u001b[0m\u001b[1;32mTrue\u001b[0m\u001b[1;33m)\u001b[0m\u001b[1;33m\u001b[0m\u001b[1;33m\u001b[0m\u001b[0m\n",
            "\u001b[1;31mKeyboardInterrupt\u001b[0m: Interrupted by user"
          ]
        }
      ],
      "source": [
        "# Write a Python function to calculate the factorial of a number (a non-negative integer).\n",
        "# The function accepts the number as an argument.\n",
        "# https://www.w3resource.com/python-exercises/python-functions-exercise-5.php\n",
        "\n",
        "def factorial(n):\n",
        "    if n == 0:\n",
        "        return 1\n",
        "    else:\n",
        "        return n * factorial(n-1)\n",
        "n=int(input(\"Input a number to compute the factiorial : \"))\n",
        "print(factorial(n))"
      ]
    },
    {
      "cell_type": "code",
      "execution_count": null,
      "metadata": {
        "id": "6VF7vLm_q5WD"
      },
      "outputs": [],
      "source": [
        "# Write a Python function to check whether a number is in a given range.\n",
        "# https://www.w3resource.com/python-exercises/python-functions-exercise-6.php\n",
        "\n",
        "def test_range(n):\n",
        "    if n in range(3,9):\n",
        "        print( \" %s is in the range\"%str(n))\n",
        "    else :\n",
        "        print(\"The number is outside the given range.\")\n",
        "test_range(5)"
      ]
    },
    {
      "cell_type": "code",
      "execution_count": null,
      "metadata": {
        "id": "TA-EwF1Jq5WD"
      },
      "outputs": [],
      "source": [
        "# Define a `lambda` function to double a value.\n",
        "lambda_f = (lambda x: 2 * x)"
      ]
    },
    {
      "cell_type": "code",
      "execution_count": null,
      "metadata": {
        "id": "G5neBymHq5WD"
      },
      "outputs": [],
      "source": [
        "# Use the `lambda` function to double values in a list [10, 12, 14, 16]. Use list comprehension.\n",
        "([lambda_f(x) for x in [10, 12, 14, 16]])"
      ]
    },
    {
      "cell_type": "code",
      "execution_count": null,
      "metadata": {
        "id": "sNJWyI7aq5WD"
      },
      "outputs": [],
      "source": [
        "# Define a function that returns `min()` and `max()` based on string input.\n",
        "alist = [10, 40, 12, 14, 16]\n",
        "\n",
        "def output(value_list, some_func):\n",
        "    print(some_func(value_list))\n",
        "    return some_func(value_list)\n",
        "\n",
        "\n",
        "result1 = output(alist, max)"
      ]
    },
    {
      "cell_type": "markdown",
      "metadata": {
        "id": "oNMQq86iq5WD"
      },
      "source": [
        "## Classes"
      ]
    },
    {
      "cell_type": "code",
      "execution_count": null,
      "metadata": {
        "id": "aXu4VKfcq5WD"
      },
      "outputs": [],
      "source": [
        "# Write a Python class to convert an integer to a roman numeral.\n",
        "# https://www.w3resource.com/python-exercises/class-exercises/python-class-exercise-1.php\n",
        "\n",
        "class Roman:\n",
        "    def int_to_Roman(self, num):\n",
        "        val = [\n",
        "            1000, 900, 500, 400,\n",
        "            100, 90, 50, 40,\n",
        "            10, 9, 5, 4,\n",
        "            1\n",
        "            ]\n",
        "        syb = [\n",
        "            \"M\", \"CM\", \"D\", \"CD\",\n",
        "            \"C\", \"XC\", \"L\", \"XL\",\n",
        "            \"X\", \"IX\", \"V\", \"IV\",\n",
        "            \"I\"\n",
        "            ]\n",
        "        roman_num = ''\n",
        "        i = 0\n",
        "        while  num > 0:\n",
        "            for _ in range(num // val[i]):\n",
        "                roman_num += syb[i]\n",
        "                num -= val[i]\n",
        "            i += 1\n",
        "        return roman_num\n",
        "\n",
        "\n",
        "print(Roman().int_to_Roman(1))\n",
        "print(Roman().int_to_Roman(2019))\n",
        "print(Roman().int_to_Roman(4000))"
      ]
    },
    {
      "cell_type": "code",
      "execution_count": null,
      "metadata": {
        "id": "rkrS9OvRq5WE"
      },
      "outputs": [],
      "source": [
        "# Write a Python class named Circle constructed by a radius and two methods which will compute\n",
        "# the area and the perimeter of a circle.\n",
        "# https://www.w3resource.com/python-exercises/class-exercises/python-class-exercise-11.php\n",
        "\n",
        "class Circle():\n",
        "    def __init__(self, r):\n",
        "        self.radius = r\n",
        "\n",
        "    def area(self):\n",
        "        return self.radius**2*3.14\n",
        "\n",
        "    def perimeter(self):\n",
        "        return 2*self.radius*3.14\n",
        "\n",
        "NewCircle = Circle(8)\n",
        "print(NewCircle.area())\n",
        "print(NewCircle.perimeter())"
      ]
    }
  ],
  "metadata": {
    "kernelspec": {
      "display_name": "Python 3",
      "language": "python",
      "name": "python3"
    },
    "language_info": {
      "codemirror_mode": {
        "name": "ipython",
        "version": 3
      },
      "file_extension": ".py",
      "mimetype": "text/x-python",
      "name": "python",
      "nbconvert_exporter": "python",
      "pygments_lexer": "ipython3",
      "version": "3.7.7"
    },
    "colab": {
      "provenance": [],
      "include_colab_link": true
    }
  },
  "nbformat": 4,
  "nbformat_minor": 0
}